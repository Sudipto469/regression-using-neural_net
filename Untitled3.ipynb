{
 "cells": [
  {
   "cell_type": "code",
   "execution_count": null,
   "id": "c5dc6b49",
   "metadata": {},
   "outputs": [],
   "source": []
  },
  {
   "cell_type": "code",
   "execution_count": 651,
   "id": "d79841f6",
   "metadata": {},
   "outputs": [],
   "source": [
    "from pandas import read_csv\n",
    "from keras.models import Sequential\n",
    "from keras.layers import Dense\n",
    "from keras.wrappers.scikit_learn import KerasRegressor\n",
    "from sklearn.model_selection import KFold\n",
    "from sklearn.model_selection import train_test_split\n",
    "import numpy as np\n",
    "import pandas as pd\n",
    "from sklearn.preprocessing import OneHotEncoder\n",
    "from sklearn.pipeline import Pipeline\n",
    "from sklearn.compose import ColumnTransformer\n",
    "from sklearn.preprocessing import StandardScaler\n",
    "from scipy import stats\n",
    "from sklearn.model_selection import GridSearchCV\n",
    "from sklearn.ensemble import RandomForestClassifier\n",
    "from sklearn.model_selection import cross_val_score\n",
    "# use when different features need different preprocessing\n",
    "from sklearn.compose import make_column_transformer\n",
    "from sklearn.metrics import mean_squared_error\n",
    "from sklearn.metrics import mean_absolute_error\n",
    "import tensorflow as tf"
   ]
  },
  {
   "cell_type": "code",
   "execution_count": 652,
   "id": "24892cc2",
   "metadata": {},
   "outputs": [],
   "source": [
    "scale = StandardScaler()"
   ]
  },
  {
   "cell_type": "code",
   "execution_count": 653,
   "id": "251c882f",
   "metadata": {},
   "outputs": [
    {
     "data": {
      "text/html": [
       "<div>\n",
       "<style scoped>\n",
       "    .dataframe tbody tr th:only-of-type {\n",
       "        vertical-align: middle;\n",
       "    }\n",
       "\n",
       "    .dataframe tbody tr th {\n",
       "        vertical-align: top;\n",
       "    }\n",
       "\n",
       "    .dataframe thead th {\n",
       "        text-align: right;\n",
       "    }\n",
       "</style>\n",
       "<table border=\"1\" class=\"dataframe\">\n",
       "  <thead>\n",
       "    <tr style=\"text-align: right;\">\n",
       "      <th></th>\n",
       "      <th>market_id</th>\n",
       "      <th>created_at</th>\n",
       "      <th>actual_delivery_time</th>\n",
       "      <th>store_id</th>\n",
       "      <th>store_primary_category</th>\n",
       "      <th>order_protocol</th>\n",
       "      <th>total_items</th>\n",
       "      <th>subtotal</th>\n",
       "      <th>num_distinct_items</th>\n",
       "      <th>min_item_price</th>\n",
       "      <th>max_item_price</th>\n",
       "      <th>total_onshift_partners</th>\n",
       "      <th>total_busy_partners</th>\n",
       "      <th>total_outstanding_orders</th>\n",
       "    </tr>\n",
       "  </thead>\n",
       "  <tbody>\n",
       "    <tr>\n",
       "      <th>0</th>\n",
       "      <td>1.0</td>\n",
       "      <td>2015-02-06 22:24:17</td>\n",
       "      <td>2015-02-06 23:27:16</td>\n",
       "      <td>df263d996281d984952c07998dc54358</td>\n",
       "      <td>american</td>\n",
       "      <td>1.0</td>\n",
       "      <td>4</td>\n",
       "      <td>3441</td>\n",
       "      <td>4</td>\n",
       "      <td>557</td>\n",
       "      <td>1239</td>\n",
       "      <td>33.0</td>\n",
       "      <td>14.0</td>\n",
       "      <td>21.0</td>\n",
       "    </tr>\n",
       "    <tr>\n",
       "      <th>1</th>\n",
       "      <td>2.0</td>\n",
       "      <td>2015-02-10 21:49:25</td>\n",
       "      <td>2015-02-10 22:56:29</td>\n",
       "      <td>f0ade77b43923b38237db569b016ba25</td>\n",
       "      <td>mexican</td>\n",
       "      <td>2.0</td>\n",
       "      <td>1</td>\n",
       "      <td>1900</td>\n",
       "      <td>1</td>\n",
       "      <td>1400</td>\n",
       "      <td>1400</td>\n",
       "      <td>1.0</td>\n",
       "      <td>2.0</td>\n",
       "      <td>2.0</td>\n",
       "    </tr>\n",
       "    <tr>\n",
       "      <th>2</th>\n",
       "      <td>3.0</td>\n",
       "      <td>2015-01-22 20:39:28</td>\n",
       "      <td>2015-01-22 21:09:09</td>\n",
       "      <td>f0ade77b43923b38237db569b016ba25</td>\n",
       "      <td>NaN</td>\n",
       "      <td>1.0</td>\n",
       "      <td>1</td>\n",
       "      <td>1900</td>\n",
       "      <td>1</td>\n",
       "      <td>1900</td>\n",
       "      <td>1900</td>\n",
       "      <td>1.0</td>\n",
       "      <td>0.0</td>\n",
       "      <td>0.0</td>\n",
       "    </tr>\n",
       "    <tr>\n",
       "      <th>3</th>\n",
       "      <td>3.0</td>\n",
       "      <td>2015-02-03 21:21:45</td>\n",
       "      <td>2015-02-03 22:13:00</td>\n",
       "      <td>f0ade77b43923b38237db569b016ba25</td>\n",
       "      <td>NaN</td>\n",
       "      <td>1.0</td>\n",
       "      <td>6</td>\n",
       "      <td>6900</td>\n",
       "      <td>5</td>\n",
       "      <td>600</td>\n",
       "      <td>1800</td>\n",
       "      <td>1.0</td>\n",
       "      <td>1.0</td>\n",
       "      <td>2.0</td>\n",
       "    </tr>\n",
       "    <tr>\n",
       "      <th>4</th>\n",
       "      <td>3.0</td>\n",
       "      <td>2015-02-15 02:40:36</td>\n",
       "      <td>2015-02-15 03:20:26</td>\n",
       "      <td>f0ade77b43923b38237db569b016ba25</td>\n",
       "      <td>NaN</td>\n",
       "      <td>1.0</td>\n",
       "      <td>3</td>\n",
       "      <td>3900</td>\n",
       "      <td>3</td>\n",
       "      <td>1100</td>\n",
       "      <td>1600</td>\n",
       "      <td>6.0</td>\n",
       "      <td>6.0</td>\n",
       "      <td>9.0</td>\n",
       "    </tr>\n",
       "  </tbody>\n",
       "</table>\n",
       "</div>"
      ],
      "text/plain": [
       "   market_id           created_at actual_delivery_time  \\\n",
       "0        1.0  2015-02-06 22:24:17  2015-02-06 23:27:16   \n",
       "1        2.0  2015-02-10 21:49:25  2015-02-10 22:56:29   \n",
       "2        3.0  2015-01-22 20:39:28  2015-01-22 21:09:09   \n",
       "3        3.0  2015-02-03 21:21:45  2015-02-03 22:13:00   \n",
       "4        3.0  2015-02-15 02:40:36  2015-02-15 03:20:26   \n",
       "\n",
       "                           store_id store_primary_category  order_protocol  \\\n",
       "0  df263d996281d984952c07998dc54358               american             1.0   \n",
       "1  f0ade77b43923b38237db569b016ba25                mexican             2.0   \n",
       "2  f0ade77b43923b38237db569b016ba25                    NaN             1.0   \n",
       "3  f0ade77b43923b38237db569b016ba25                    NaN             1.0   \n",
       "4  f0ade77b43923b38237db569b016ba25                    NaN             1.0   \n",
       "\n",
       "   total_items  subtotal  num_distinct_items  min_item_price  max_item_price  \\\n",
       "0            4      3441                   4             557            1239   \n",
       "1            1      1900                   1            1400            1400   \n",
       "2            1      1900                   1            1900            1900   \n",
       "3            6      6900                   5             600            1800   \n",
       "4            3      3900                   3            1100            1600   \n",
       "\n",
       "   total_onshift_partners  total_busy_partners  total_outstanding_orders  \n",
       "0                    33.0                 14.0                      21.0  \n",
       "1                     1.0                  2.0                       2.0  \n",
       "2                     1.0                  0.0                       0.0  \n",
       "3                     1.0                  1.0                       2.0  \n",
       "4                     6.0                  6.0                       9.0  "
      ]
     },
     "execution_count": 653,
     "metadata": {},
     "output_type": "execute_result"
    }
   ],
   "source": [
    "data = read_csv('dataset.csv')\n",
    "data.head()"
   ]
  },
  {
   "cell_type": "markdown",
   "id": "d7bd6eef",
   "metadata": {},
   "source": [
    "<a href = 'https://towardsdatascience.com/hyperparameter-tuning-the-random-forest-in-python-using-scikit-learn-28d2aa77dd74'> Random Forest example for reference </a>"
   ]
  },
  {
   "cell_type": "code",
   "execution_count": 654,
   "id": "a9b52d08",
   "metadata": {},
   "outputs": [],
   "source": [
    "data = data[data['actual_delivery_time'].notna()]\n",
    "data = data[data['store_primary_category'].notna()]\n",
    "data = data[data['order_protocol'].notna()]\n",
    "data = data[data['total_onshift_partners'].notna()]\n",
    "data = data[data['total_busy_partners'].notna()]\n",
    "data = data[data['total_outstanding_orders'].notna()]\n",
    "data = data[data['market_id'].notna()]"
   ]
  },
  {
   "cell_type": "code",
   "execution_count": 655,
   "id": "3d90c4a8",
   "metadata": {},
   "outputs": [
    {
     "data": {
      "text/plain": [
       "market_id                   0\n",
       "created_at                  0\n",
       "actual_delivery_time        0\n",
       "store_id                    0\n",
       "store_primary_category      0\n",
       "order_protocol              0\n",
       "total_items                 0\n",
       "subtotal                    0\n",
       "num_distinct_items          0\n",
       "min_item_price              0\n",
       "max_item_price              0\n",
       "total_onshift_partners      0\n",
       "total_busy_partners         0\n",
       "total_outstanding_orders    0\n",
       "dtype: int64"
      ]
     },
     "execution_count": 655,
     "metadata": {},
     "output_type": "execute_result"
    }
   ],
   "source": [
    "data.isnull().sum()"
   ]
  },
  {
   "cell_type": "code",
   "execution_count": 656,
   "id": "824e4602",
   "metadata": {},
   "outputs": [],
   "source": [
    "data['created_at'] = data['created_at'].astype('datetime64[ns]')\n",
    "data['actual_delivery_time'] = data['actual_delivery_time'].astype('datetime64[ns]')\n",
    "data['delivery_time'] = (data['actual_delivery_time'] - data['created_at'])\n",
    "data['delivery_time_mins'] = data['delivery_time'].dt.total_seconds().div(60).astype(int)\n",
    "data['order_day'] = data['created_at'].dt.day_name()\n",
    "data['delivery_day'] = data['actual_delivery_time'].dt.day_name()\n",
    "data['created_hour'] = data['created_at'].dt.hour"
   ]
  },
  {
   "cell_type": "markdown",
   "id": "c4bd95f0",
   "metadata": {},
   "source": [
    "<p>\n",
    "   <h3> artificial columns created </h3> \n",
    "    \n",
    "> created_at : get the hour of the order <br/>\n",
    "> actual_delivery_time : actual_delivery_time <br/>\n",
    "    >delivery_time : delivery_time<br/>\n",
    "    >delivery_time_mins : delivery_time_mins<br/>\n",
    "    >order_day : <br/>\n",
    "    >delivery_day <br/>\n",
    "    >created_hour <br/>\n",
    "</p>"
   ]
  },
  {
   "cell_type": "code",
   "execution_count": 657,
   "id": "75529564",
   "metadata": {},
   "outputs": [
    {
     "data": {
      "text/html": [
       "<div>\n",
       "<style scoped>\n",
       "    .dataframe tbody tr th:only-of-type {\n",
       "        vertical-align: middle;\n",
       "    }\n",
       "\n",
       "    .dataframe tbody tr th {\n",
       "        vertical-align: top;\n",
       "    }\n",
       "\n",
       "    .dataframe thead th {\n",
       "        text-align: right;\n",
       "    }\n",
       "</style>\n",
       "<table border=\"1\" class=\"dataframe\">\n",
       "  <thead>\n",
       "    <tr style=\"text-align: right;\">\n",
       "      <th></th>\n",
       "      <th>market_id</th>\n",
       "      <th>created_at</th>\n",
       "      <th>actual_delivery_time</th>\n",
       "      <th>store_id</th>\n",
       "      <th>store_primary_category</th>\n",
       "      <th>order_protocol</th>\n",
       "      <th>total_items</th>\n",
       "      <th>subtotal</th>\n",
       "      <th>num_distinct_items</th>\n",
       "      <th>min_item_price</th>\n",
       "      <th>max_item_price</th>\n",
       "      <th>total_onshift_partners</th>\n",
       "      <th>total_busy_partners</th>\n",
       "      <th>total_outstanding_orders</th>\n",
       "      <th>delivery_time</th>\n",
       "      <th>delivery_time_mins</th>\n",
       "      <th>order_day</th>\n",
       "      <th>delivery_day</th>\n",
       "      <th>created_hour</th>\n",
       "    </tr>\n",
       "  </thead>\n",
       "  <tbody>\n",
       "    <tr>\n",
       "      <th>0</th>\n",
       "      <td>1.0</td>\n",
       "      <td>2015-02-06 22:24:17</td>\n",
       "      <td>2015-02-06 23:27:16</td>\n",
       "      <td>df263d996281d984952c07998dc54358</td>\n",
       "      <td>american</td>\n",
       "      <td>1.0</td>\n",
       "      <td>4</td>\n",
       "      <td>3441</td>\n",
       "      <td>4</td>\n",
       "      <td>557</td>\n",
       "      <td>1239</td>\n",
       "      <td>33.0</td>\n",
       "      <td>14.0</td>\n",
       "      <td>21.0</td>\n",
       "      <td>0 days 01:02:59</td>\n",
       "      <td>62</td>\n",
       "      <td>Friday</td>\n",
       "      <td>Friday</td>\n",
       "      <td>22</td>\n",
       "    </tr>\n",
       "    <tr>\n",
       "      <th>1</th>\n",
       "      <td>2.0</td>\n",
       "      <td>2015-02-10 21:49:25</td>\n",
       "      <td>2015-02-10 22:56:29</td>\n",
       "      <td>f0ade77b43923b38237db569b016ba25</td>\n",
       "      <td>mexican</td>\n",
       "      <td>2.0</td>\n",
       "      <td>1</td>\n",
       "      <td>1900</td>\n",
       "      <td>1</td>\n",
       "      <td>1400</td>\n",
       "      <td>1400</td>\n",
       "      <td>1.0</td>\n",
       "      <td>2.0</td>\n",
       "      <td>2.0</td>\n",
       "      <td>0 days 01:07:04</td>\n",
       "      <td>67</td>\n",
       "      <td>Tuesday</td>\n",
       "      <td>Tuesday</td>\n",
       "      <td>21</td>\n",
       "    </tr>\n",
       "    <tr>\n",
       "      <th>8</th>\n",
       "      <td>2.0</td>\n",
       "      <td>2015-02-16 00:11:35</td>\n",
       "      <td>2015-02-16 00:38:01</td>\n",
       "      <td>f0ade77b43923b38237db569b016ba25</td>\n",
       "      <td>indian</td>\n",
       "      <td>3.0</td>\n",
       "      <td>4</td>\n",
       "      <td>4771</td>\n",
       "      <td>3</td>\n",
       "      <td>820</td>\n",
       "      <td>1604</td>\n",
       "      <td>8.0</td>\n",
       "      <td>6.0</td>\n",
       "      <td>18.0</td>\n",
       "      <td>0 days 00:26:26</td>\n",
       "      <td>26</td>\n",
       "      <td>Monday</td>\n",
       "      <td>Monday</td>\n",
       "      <td>0</td>\n",
       "    </tr>\n",
       "    <tr>\n",
       "      <th>14</th>\n",
       "      <td>1.0</td>\n",
       "      <td>2015-02-12 03:36:46</td>\n",
       "      <td>2015-02-12 04:14:39</td>\n",
       "      <td>ef1e491a766ce3127556063d49bc2f98</td>\n",
       "      <td>italian</td>\n",
       "      <td>1.0</td>\n",
       "      <td>1</td>\n",
       "      <td>1525</td>\n",
       "      <td>1</td>\n",
       "      <td>1525</td>\n",
       "      <td>1525</td>\n",
       "      <td>5.0</td>\n",
       "      <td>6.0</td>\n",
       "      <td>8.0</td>\n",
       "      <td>0 days 00:37:53</td>\n",
       "      <td>37</td>\n",
       "      <td>Thursday</td>\n",
       "      <td>Thursday</td>\n",
       "      <td>3</td>\n",
       "    </tr>\n",
       "    <tr>\n",
       "      <th>15</th>\n",
       "      <td>1.0</td>\n",
       "      <td>2015-01-27 02:12:36</td>\n",
       "      <td>2015-01-27 03:02:24</td>\n",
       "      <td>ef1e491a766ce3127556063d49bc2f98</td>\n",
       "      <td>italian</td>\n",
       "      <td>1.0</td>\n",
       "      <td>2</td>\n",
       "      <td>3620</td>\n",
       "      <td>2</td>\n",
       "      <td>1425</td>\n",
       "      <td>2195</td>\n",
       "      <td>5.0</td>\n",
       "      <td>5.0</td>\n",
       "      <td>7.0</td>\n",
       "      <td>0 days 00:49:48</td>\n",
       "      <td>49</td>\n",
       "      <td>Tuesday</td>\n",
       "      <td>Tuesday</td>\n",
       "      <td>2</td>\n",
       "    </tr>\n",
       "  </tbody>\n",
       "</table>\n",
       "</div>"
      ],
      "text/plain": [
       "    market_id          created_at actual_delivery_time  \\\n",
       "0         1.0 2015-02-06 22:24:17  2015-02-06 23:27:16   \n",
       "1         2.0 2015-02-10 21:49:25  2015-02-10 22:56:29   \n",
       "8         2.0 2015-02-16 00:11:35  2015-02-16 00:38:01   \n",
       "14        1.0 2015-02-12 03:36:46  2015-02-12 04:14:39   \n",
       "15        1.0 2015-01-27 02:12:36  2015-01-27 03:02:24   \n",
       "\n",
       "                            store_id store_primary_category  order_protocol  \\\n",
       "0   df263d996281d984952c07998dc54358               american             1.0   \n",
       "1   f0ade77b43923b38237db569b016ba25                mexican             2.0   \n",
       "8   f0ade77b43923b38237db569b016ba25                 indian             3.0   \n",
       "14  ef1e491a766ce3127556063d49bc2f98                italian             1.0   \n",
       "15  ef1e491a766ce3127556063d49bc2f98                italian             1.0   \n",
       "\n",
       "    total_items  subtotal  num_distinct_items  min_item_price  max_item_price  \\\n",
       "0             4      3441                   4             557            1239   \n",
       "1             1      1900                   1            1400            1400   \n",
       "8             4      4771                   3             820            1604   \n",
       "14            1      1525                   1            1525            1525   \n",
       "15            2      3620                   2            1425            2195   \n",
       "\n",
       "    total_onshift_partners  total_busy_partners  total_outstanding_orders  \\\n",
       "0                     33.0                 14.0                      21.0   \n",
       "1                      1.0                  2.0                       2.0   \n",
       "8                      8.0                  6.0                      18.0   \n",
       "14                     5.0                  6.0                       8.0   \n",
       "15                     5.0                  5.0                       7.0   \n",
       "\n",
       "     delivery_time  delivery_time_mins order_day delivery_day  created_hour  \n",
       "0  0 days 01:02:59                  62    Friday       Friday            22  \n",
       "1  0 days 01:07:04                  67   Tuesday      Tuesday            21  \n",
       "8  0 days 00:26:26                  26    Monday       Monday             0  \n",
       "14 0 days 00:37:53                  37  Thursday     Thursday             3  \n",
       "15 0 days 00:49:48                  49   Tuesday      Tuesday             2  "
      ]
     },
     "execution_count": 657,
     "metadata": {},
     "output_type": "execute_result"
    }
   ],
   "source": [
    "data.head()"
   ]
  },
  {
   "cell_type": "markdown",
   "id": "03bbf9a7",
   "metadata": {},
   "source": [
    "<h3>Columns not needed :</h3>\n",
    "<p>\n",
    "    > created_at : we have created hour and day separately <br/>\n",
    "    > actual_delivery_time : we have created hour and day separately <br/>\n",
    "    </p>"
   ]
  },
  {
   "cell_type": "code",
   "execution_count": 658,
   "id": "a3c6f1b7",
   "metadata": {},
   "outputs": [],
   "source": [
    "# IQR\n",
    "# Calculate the upper and lower limits\n",
    "Q1 = data['delivery_time_mins'].quantile(0.25)\n",
    "Q3 = data['delivery_time_mins'].quantile(0.75)\n",
    "IQR = Q3 - Q1\n",
    "lower = Q1 - 1.5*IQR\n",
    "upper = Q3 + 1.5*IQR\n",
    "# Create arrays of Boolean values indicating the outlier rows\n",
    "above_avg_time = data[data['delivery_time_mins']>=upper]\n",
    "below_avg_time = data[data['delivery_time_mins']<=lower]"
   ]
  },
  {
   "cell_type": "code",
   "execution_count": 659,
   "id": "8ee0c6d8",
   "metadata": {},
   "outputs": [
    {
     "data": {
      "text/html": [
       "<div>\n",
       "<style scoped>\n",
       "    .dataframe tbody tr th:only-of-type {\n",
       "        vertical-align: middle;\n",
       "    }\n",
       "\n",
       "    .dataframe tbody tr th {\n",
       "        vertical-align: top;\n",
       "    }\n",
       "\n",
       "    .dataframe thead th {\n",
       "        text-align: right;\n",
       "    }\n",
       "</style>\n",
       "<table border=\"1\" class=\"dataframe\">\n",
       "  <thead>\n",
       "    <tr style=\"text-align: right;\">\n",
       "      <th></th>\n",
       "      <th>market_id</th>\n",
       "      <th>created_at</th>\n",
       "      <th>actual_delivery_time</th>\n",
       "      <th>store_id</th>\n",
       "      <th>store_primary_category</th>\n",
       "      <th>order_protocol</th>\n",
       "      <th>total_items</th>\n",
       "      <th>subtotal</th>\n",
       "      <th>num_distinct_items</th>\n",
       "      <th>min_item_price</th>\n",
       "      <th>max_item_price</th>\n",
       "      <th>total_onshift_partners</th>\n",
       "      <th>total_busy_partners</th>\n",
       "      <th>total_outstanding_orders</th>\n",
       "      <th>delivery_time</th>\n",
       "      <th>delivery_time_mins</th>\n",
       "      <th>order_day</th>\n",
       "      <th>delivery_day</th>\n",
       "      <th>created_hour</th>\n",
       "    </tr>\n",
       "  </thead>\n",
       "  <tbody>\n",
       "    <tr>\n",
       "      <th>862</th>\n",
       "      <td>2.0</td>\n",
       "      <td>2015-01-25 21:59:08</td>\n",
       "      <td>2015-01-25 22:02:51</td>\n",
       "      <td>aa2a77371374094fe9e0bc1de3f94ed9</td>\n",
       "      <td>sandwich</td>\n",
       "      <td>2.0</td>\n",
       "      <td>1</td>\n",
       "      <td>1195</td>\n",
       "      <td>1</td>\n",
       "      <td>1195</td>\n",
       "      <td>1195</td>\n",
       "      <td>60.0</td>\n",
       "      <td>74.0</td>\n",
       "      <td>51.0</td>\n",
       "      <td>0 days 00:03:43</td>\n",
       "      <td>3</td>\n",
       "      <td>Sunday</td>\n",
       "      <td>Sunday</td>\n",
       "      <td>21</td>\n",
       "    </tr>\n",
       "    <tr>\n",
       "      <th>63294</th>\n",
       "      <td>2.0</td>\n",
       "      <td>2015-01-24 23:52:55</td>\n",
       "      <td>2015-01-24 23:54:36</td>\n",
       "      <td>c56a022b15250525f8b9bdfc41a13152</td>\n",
       "      <td>mexican</td>\n",
       "      <td>2.0</td>\n",
       "      <td>3</td>\n",
       "      <td>1455</td>\n",
       "      <td>2</td>\n",
       "      <td>355</td>\n",
       "      <td>745</td>\n",
       "      <td>44.0</td>\n",
       "      <td>48.0</td>\n",
       "      <td>40.0</td>\n",
       "      <td>0 days 00:01:41</td>\n",
       "      <td>1</td>\n",
       "      <td>Saturday</td>\n",
       "      <td>Saturday</td>\n",
       "      <td>23</td>\n",
       "    </tr>\n",
       "  </tbody>\n",
       "</table>\n",
       "</div>"
      ],
      "text/plain": [
       "       market_id          created_at actual_delivery_time  \\\n",
       "862          2.0 2015-01-25 21:59:08  2015-01-25 22:02:51   \n",
       "63294        2.0 2015-01-24 23:52:55  2015-01-24 23:54:36   \n",
       "\n",
       "                               store_id store_primary_category  \\\n",
       "862    aa2a77371374094fe9e0bc1de3f94ed9               sandwich   \n",
       "63294  c56a022b15250525f8b9bdfc41a13152                mexican   \n",
       "\n",
       "       order_protocol  total_items  subtotal  num_distinct_items  \\\n",
       "862               2.0            1      1195                   1   \n",
       "63294             2.0            3      1455                   2   \n",
       "\n",
       "       min_item_price  max_item_price  total_onshift_partners  \\\n",
       "862              1195            1195                    60.0   \n",
       "63294             355             745                    44.0   \n",
       "\n",
       "       total_busy_partners  total_outstanding_orders   delivery_time  \\\n",
       "862                   74.0                      51.0 0 days 00:03:43   \n",
       "63294                 48.0                      40.0 0 days 00:01:41   \n",
       "\n",
       "       delivery_time_mins order_day delivery_day  created_hour  \n",
       "862                     3    Sunday       Sunday            21  \n",
       "63294                   1  Saturday     Saturday            23  "
      ]
     },
     "execution_count": 659,
     "metadata": {},
     "output_type": "execute_result"
    }
   ],
   "source": [
    "below_avg_time"
   ]
  },
  {
   "cell_type": "code",
   "execution_count": null,
   "id": "61b66df3",
   "metadata": {},
   "outputs": [],
   "source": []
  },
  {
   "cell_type": "code",
   "execution_count": null,
   "id": "95ca148c",
   "metadata": {},
   "outputs": [],
   "source": []
  },
  {
   "cell_type": "markdown",
   "id": "431bbe15",
   "metadata": {},
   "source": [
    "<h3>Exploratory data analysis for above avg time taken</h3> "
   ]
  },
  {
   "cell_type": "code",
   "execution_count": 660,
   "id": "b7a24668",
   "metadata": {},
   "outputs": [
    {
     "name": "stdout",
     "output_type": "stream",
     "text": [
      "total_onshift_partners : 39.352090315752335\n",
      "total_busy_partners : 38.162638913388605\n",
      "total_outstanding_orders : 64.36091021344153\n",
      "delivery_time_mins : 109.93967189980596\n"
     ]
    }
   ],
   "source": [
    "print('total_onshift_partners :',above_avg_time['total_onshift_partners'].mean())\n",
    "print('total_busy_partners :',above_avg_time['total_busy_partners'].mean())\n",
    "print('total_outstanding_orders :',above_avg_time['total_outstanding_orders'].mean())\n",
    "print('delivery_time_mins :',above_avg_time['delivery_time_mins'].mean())"
   ]
  },
  {
   "cell_type": "code",
   "execution_count": 661,
   "id": "efd12d2e",
   "metadata": {},
   "outputs": [
    {
     "data": {
      "text/plain": [
       "1.0    2250\n",
       "4.0    1166\n",
       "2.0    1110\n",
       "3.0     702\n",
       "5.0     425\n",
       "6.0      16\n",
       "Name: market_id, dtype: int64"
      ]
     },
     "execution_count": 661,
     "metadata": {},
     "output_type": "execute_result"
    }
   ],
   "source": [
    "above_avg_time['market_id'].value_counts().nlargest(15)"
   ]
  },
  {
   "cell_type": "code",
   "execution_count": 662,
   "id": "d57f0373",
   "metadata": {},
   "outputs": [
    {
     "data": {
      "text/plain": [
       "pizza            594\n",
       "american         584\n",
       "japanese         476\n",
       "dessert          357\n",
       "mexican          335\n",
       "chinese          303\n",
       "burger           259\n",
       "italian          243\n",
       "thai             218\n",
       "indian           218\n",
       "fast             191\n",
       "sandwich         190\n",
       "mediterranean    185\n",
       "vietnamese       130\n",
       "salad            124\n",
       "Name: store_primary_category, dtype: int64"
      ]
     },
     "execution_count": 662,
     "metadata": {},
     "output_type": "execute_result"
    }
   ],
   "source": [
    "above_avg_time['store_primary_category'].value_counts().nlargest(15)"
   ]
  },
  {
   "cell_type": "code",
   "execution_count": 663,
   "id": "8a2d88e3",
   "metadata": {},
   "outputs": [
    {
     "data": {
      "text/plain": [
       "1.0    1977\n",
       "3.0    1184\n",
       "5.0     975\n",
       "4.0     830\n",
       "2.0     613\n",
       "6.0      90\n",
       "Name: order_protocol, dtype: int64"
      ]
     },
     "execution_count": 663,
     "metadata": {},
     "output_type": "execute_result"
    }
   ],
   "source": [
    "above_avg_time['order_protocol'].value_counts().nlargest(15)"
   ]
  },
  {
   "cell_type": "markdown",
   "id": "cc103ae2",
   "metadata": {},
   "source": [
    "<p>\n",
    "<h5 style=\"color:green\">Trying to understand if order was placed at later hours of the day</h5><br/>\n",
    "Ans : for not same day delivery avg order hour 22.938967136150236\n",
    "</p>"
   ]
  },
  {
   "cell_type": "code",
   "execution_count": 664,
   "id": "ba84fd23",
   "metadata": {},
   "outputs": [
    {
     "data": {
      "text/html": [
       "<div>\n",
       "<style scoped>\n",
       "    .dataframe tbody tr th:only-of-type {\n",
       "        vertical-align: middle;\n",
       "    }\n",
       "\n",
       "    .dataframe tbody tr th {\n",
       "        vertical-align: top;\n",
       "    }\n",
       "\n",
       "    .dataframe thead th {\n",
       "        text-align: right;\n",
       "    }\n",
       "</style>\n",
       "<table border=\"1\" class=\"dataframe\">\n",
       "  <thead>\n",
       "    <tr style=\"text-align: right;\">\n",
       "      <th></th>\n",
       "      <th>market_id</th>\n",
       "      <th>created_at</th>\n",
       "      <th>actual_delivery_time</th>\n",
       "      <th>store_id</th>\n",
       "      <th>store_primary_category</th>\n",
       "      <th>order_protocol</th>\n",
       "      <th>total_items</th>\n",
       "      <th>subtotal</th>\n",
       "      <th>num_distinct_items</th>\n",
       "      <th>min_item_price</th>\n",
       "      <th>max_item_price</th>\n",
       "      <th>total_onshift_partners</th>\n",
       "      <th>total_busy_partners</th>\n",
       "      <th>total_outstanding_orders</th>\n",
       "      <th>delivery_time</th>\n",
       "      <th>delivery_time_mins</th>\n",
       "      <th>order_day</th>\n",
       "      <th>delivery_day</th>\n",
       "      <th>created_hour</th>\n",
       "    </tr>\n",
       "  </thead>\n",
       "  <tbody>\n",
       "    <tr>\n",
       "      <th>20</th>\n",
       "      <td>1.0</td>\n",
       "      <td>2015-01-31 23:45:12</td>\n",
       "      <td>2015-02-01 00:14:05</td>\n",
       "      <td>ce016f59ecc2366a43e1c96a4774d167</td>\n",
       "      <td>mexican</td>\n",
       "      <td>1.0</td>\n",
       "      <td>5</td>\n",
       "      <td>1285</td>\n",
       "      <td>3</td>\n",
       "      <td>150</td>\n",
       "      <td>400</td>\n",
       "      <td>12.0</td>\n",
       "      <td>13.0</td>\n",
       "      <td>11.0</td>\n",
       "      <td>0 days 00:28:53</td>\n",
       "      <td>28</td>\n",
       "      <td>Saturday</td>\n",
       "      <td>Sunday</td>\n",
       "      <td>23</td>\n",
       "    </tr>\n",
       "    <tr>\n",
       "      <th>89</th>\n",
       "      <td>3.0</td>\n",
       "      <td>2015-02-07 23:45:40</td>\n",
       "      <td>2015-02-08 00:37:08</td>\n",
       "      <td>a8aa681aaa4588a8dbd3b42b26d59a1a</td>\n",
       "      <td>mexican</td>\n",
       "      <td>1.0</td>\n",
       "      <td>2</td>\n",
       "      <td>1150</td>\n",
       "      <td>2</td>\n",
       "      <td>350</td>\n",
       "      <td>800</td>\n",
       "      <td>17.0</td>\n",
       "      <td>13.0</td>\n",
       "      <td>13.0</td>\n",
       "      <td>0 days 00:51:28</td>\n",
       "      <td>51</td>\n",
       "      <td>Saturday</td>\n",
       "      <td>Sunday</td>\n",
       "      <td>23</td>\n",
       "    </tr>\n",
       "    <tr>\n",
       "      <th>101</th>\n",
       "      <td>3.0</td>\n",
       "      <td>2015-01-31 23:45:47</td>\n",
       "      <td>2015-02-01 00:43:56</td>\n",
       "      <td>da353f402faf6cf475d4abd1450b0882</td>\n",
       "      <td>sandwich</td>\n",
       "      <td>3.0</td>\n",
       "      <td>4</td>\n",
       "      <td>1770</td>\n",
       "      <td>4</td>\n",
       "      <td>150</td>\n",
       "      <td>975</td>\n",
       "      <td>2.0</td>\n",
       "      <td>3.0</td>\n",
       "      <td>2.0</td>\n",
       "      <td>0 days 00:58:09</td>\n",
       "      <td>58</td>\n",
       "      <td>Saturday</td>\n",
       "      <td>Sunday</td>\n",
       "      <td>23</td>\n",
       "    </tr>\n",
       "    <tr>\n",
       "      <th>104</th>\n",
       "      <td>3.0</td>\n",
       "      <td>2015-02-14 23:37:41</td>\n",
       "      <td>2015-02-15 00:41:56</td>\n",
       "      <td>da353f402faf6cf475d4abd1450b0882</td>\n",
       "      <td>sandwich</td>\n",
       "      <td>3.0</td>\n",
       "      <td>4</td>\n",
       "      <td>1825</td>\n",
       "      <td>3</td>\n",
       "      <td>150</td>\n",
       "      <td>675</td>\n",
       "      <td>4.0</td>\n",
       "      <td>2.0</td>\n",
       "      <td>3.0</td>\n",
       "      <td>0 days 01:04:15</td>\n",
       "      <td>64</td>\n",
       "      <td>Saturday</td>\n",
       "      <td>Sunday</td>\n",
       "      <td>23</td>\n",
       "    </tr>\n",
       "    <tr>\n",
       "      <th>154</th>\n",
       "      <td>5.0</td>\n",
       "      <td>2015-02-04 23:15:25</td>\n",
       "      <td>2015-02-05 00:06:22</td>\n",
       "      <td>24128c84241513596a1be1534a791c3b</td>\n",
       "      <td>burger</td>\n",
       "      <td>4.0</td>\n",
       "      <td>1</td>\n",
       "      <td>990</td>\n",
       "      <td>1</td>\n",
       "      <td>940</td>\n",
       "      <td>940</td>\n",
       "      <td>5.0</td>\n",
       "      <td>4.0</td>\n",
       "      <td>5.0</td>\n",
       "      <td>0 days 00:50:57</td>\n",
       "      <td>50</td>\n",
       "      <td>Wednesday</td>\n",
       "      <td>Thursday</td>\n",
       "      <td>23</td>\n",
       "    </tr>\n",
       "  </tbody>\n",
       "</table>\n",
       "</div>"
      ],
      "text/plain": [
       "     market_id          created_at actual_delivery_time  \\\n",
       "20         1.0 2015-01-31 23:45:12  2015-02-01 00:14:05   \n",
       "89         3.0 2015-02-07 23:45:40  2015-02-08 00:37:08   \n",
       "101        3.0 2015-01-31 23:45:47  2015-02-01 00:43:56   \n",
       "104        3.0 2015-02-14 23:37:41  2015-02-15 00:41:56   \n",
       "154        5.0 2015-02-04 23:15:25  2015-02-05 00:06:22   \n",
       "\n",
       "                             store_id store_primary_category  order_protocol  \\\n",
       "20   ce016f59ecc2366a43e1c96a4774d167                mexican             1.0   \n",
       "89   a8aa681aaa4588a8dbd3b42b26d59a1a                mexican             1.0   \n",
       "101  da353f402faf6cf475d4abd1450b0882               sandwich             3.0   \n",
       "104  da353f402faf6cf475d4abd1450b0882               sandwich             3.0   \n",
       "154  24128c84241513596a1be1534a791c3b                 burger             4.0   \n",
       "\n",
       "     total_items  subtotal  num_distinct_items  min_item_price  \\\n",
       "20             5      1285                   3             150   \n",
       "89             2      1150                   2             350   \n",
       "101            4      1770                   4             150   \n",
       "104            4      1825                   3             150   \n",
       "154            1       990                   1             940   \n",
       "\n",
       "     max_item_price  total_onshift_partners  total_busy_partners  \\\n",
       "20              400                    12.0                 13.0   \n",
       "89              800                    17.0                 13.0   \n",
       "101             975                     2.0                  3.0   \n",
       "104             675                     4.0                  2.0   \n",
       "154             940                     5.0                  4.0   \n",
       "\n",
       "     total_outstanding_orders   delivery_time  delivery_time_mins  order_day  \\\n",
       "20                       11.0 0 days 00:28:53                  28   Saturday   \n",
       "89                       13.0 0 days 00:51:28                  51   Saturday   \n",
       "101                       2.0 0 days 00:58:09                  58   Saturday   \n",
       "104                       3.0 0 days 01:04:15                  64   Saturday   \n",
       "154                       5.0 0 days 00:50:57                  50  Wednesday   \n",
       "\n",
       "    delivery_day  created_hour  \n",
       "20        Sunday            23  \n",
       "89        Sunday            23  \n",
       "101       Sunday            23  \n",
       "104       Sunday            23  \n",
       "154     Thursday            23  "
      ]
     },
     "execution_count": 664,
     "metadata": {},
     "output_type": "execute_result"
    }
   ],
   "source": [
    "data.loc[~(data['order_day'] == data['delivery_day'])].head()"
   ]
  },
  {
   "cell_type": "code",
   "execution_count": 665,
   "id": "0107608a",
   "metadata": {},
   "outputs": [
    {
     "data": {
      "text/plain": [
       "22.93837797340326"
      ]
     },
     "execution_count": 665,
     "metadata": {},
     "output_type": "execute_result"
    }
   ],
   "source": [
    "data.loc[~(data['order_day'] == data['delivery_day'])]['created_hour'].mean()"
   ]
  },
  {
   "cell_type": "code",
   "execution_count": 666,
   "id": "e272b630",
   "metadata": {},
   "outputs": [
    {
     "data": {
      "text/plain": [
       "market_id                           float64\n",
       "created_at                   datetime64[ns]\n",
       "actual_delivery_time         datetime64[ns]\n",
       "store_id                             object\n",
       "store_primary_category               object\n",
       "order_protocol                      float64\n",
       "total_items                           int64\n",
       "subtotal                              int64\n",
       "num_distinct_items                    int64\n",
       "min_item_price                        int64\n",
       "max_item_price                        int64\n",
       "total_onshift_partners              float64\n",
       "total_busy_partners                 float64\n",
       "total_outstanding_orders            float64\n",
       "delivery_time               timedelta64[ns]\n",
       "delivery_time_mins                    int32\n",
       "order_day                            object\n",
       "delivery_day                         object\n",
       "created_hour                          int64\n",
       "dtype: object"
      ]
     },
     "execution_count": 666,
     "metadata": {},
     "output_type": "execute_result"
    }
   ],
   "source": [
    "data.dtypes"
   ]
  },
  {
   "cell_type": "code",
   "execution_count": 667,
   "id": "7d9ececa",
   "metadata": {},
   "outputs": [],
   "source": [
    "data  = data.drop(['created_at','actual_delivery_time','store_id','delivery_time','delivery_day'], axis='columns')"
   ]
  },
  {
   "cell_type": "code",
   "execution_count": 668,
   "id": "db03529d",
   "metadata": {},
   "outputs": [
    {
     "data": {
      "text/html": [
       "<div>\n",
       "<style scoped>\n",
       "    .dataframe tbody tr th:only-of-type {\n",
       "        vertical-align: middle;\n",
       "    }\n",
       "\n",
       "    .dataframe tbody tr th {\n",
       "        vertical-align: top;\n",
       "    }\n",
       "\n",
       "    .dataframe thead th {\n",
       "        text-align: right;\n",
       "    }\n",
       "</style>\n",
       "<table border=\"1\" class=\"dataframe\">\n",
       "  <thead>\n",
       "    <tr style=\"text-align: right;\">\n",
       "      <th></th>\n",
       "      <th>market_id</th>\n",
       "      <th>store_primary_category</th>\n",
       "      <th>order_protocol</th>\n",
       "      <th>total_items</th>\n",
       "      <th>subtotal</th>\n",
       "      <th>num_distinct_items</th>\n",
       "      <th>min_item_price</th>\n",
       "      <th>max_item_price</th>\n",
       "      <th>total_onshift_partners</th>\n",
       "      <th>total_busy_partners</th>\n",
       "      <th>total_outstanding_orders</th>\n",
       "      <th>delivery_time_mins</th>\n",
       "      <th>order_day</th>\n",
       "      <th>created_hour</th>\n",
       "    </tr>\n",
       "  </thead>\n",
       "  <tbody>\n",
       "    <tr>\n",
       "      <th>0</th>\n",
       "      <td>1.0</td>\n",
       "      <td>american</td>\n",
       "      <td>1.0</td>\n",
       "      <td>4</td>\n",
       "      <td>3441</td>\n",
       "      <td>4</td>\n",
       "      <td>557</td>\n",
       "      <td>1239</td>\n",
       "      <td>33.0</td>\n",
       "      <td>14.0</td>\n",
       "      <td>21.0</td>\n",
       "      <td>62</td>\n",
       "      <td>Friday</td>\n",
       "      <td>22</td>\n",
       "    </tr>\n",
       "    <tr>\n",
       "      <th>1</th>\n",
       "      <td>2.0</td>\n",
       "      <td>mexican</td>\n",
       "      <td>2.0</td>\n",
       "      <td>1</td>\n",
       "      <td>1900</td>\n",
       "      <td>1</td>\n",
       "      <td>1400</td>\n",
       "      <td>1400</td>\n",
       "      <td>1.0</td>\n",
       "      <td>2.0</td>\n",
       "      <td>2.0</td>\n",
       "      <td>67</td>\n",
       "      <td>Tuesday</td>\n",
       "      <td>21</td>\n",
       "    </tr>\n",
       "    <tr>\n",
       "      <th>8</th>\n",
       "      <td>2.0</td>\n",
       "      <td>indian</td>\n",
       "      <td>3.0</td>\n",
       "      <td>4</td>\n",
       "      <td>4771</td>\n",
       "      <td>3</td>\n",
       "      <td>820</td>\n",
       "      <td>1604</td>\n",
       "      <td>8.0</td>\n",
       "      <td>6.0</td>\n",
       "      <td>18.0</td>\n",
       "      <td>26</td>\n",
       "      <td>Monday</td>\n",
       "      <td>0</td>\n",
       "    </tr>\n",
       "    <tr>\n",
       "      <th>14</th>\n",
       "      <td>1.0</td>\n",
       "      <td>italian</td>\n",
       "      <td>1.0</td>\n",
       "      <td>1</td>\n",
       "      <td>1525</td>\n",
       "      <td>1</td>\n",
       "      <td>1525</td>\n",
       "      <td>1525</td>\n",
       "      <td>5.0</td>\n",
       "      <td>6.0</td>\n",
       "      <td>8.0</td>\n",
       "      <td>37</td>\n",
       "      <td>Thursday</td>\n",
       "      <td>3</td>\n",
       "    </tr>\n",
       "    <tr>\n",
       "      <th>15</th>\n",
       "      <td>1.0</td>\n",
       "      <td>italian</td>\n",
       "      <td>1.0</td>\n",
       "      <td>2</td>\n",
       "      <td>3620</td>\n",
       "      <td>2</td>\n",
       "      <td>1425</td>\n",
       "      <td>2195</td>\n",
       "      <td>5.0</td>\n",
       "      <td>5.0</td>\n",
       "      <td>7.0</td>\n",
       "      <td>49</td>\n",
       "      <td>Tuesday</td>\n",
       "      <td>2</td>\n",
       "    </tr>\n",
       "  </tbody>\n",
       "</table>\n",
       "</div>"
      ],
      "text/plain": [
       "    market_id store_primary_category  order_protocol  total_items  subtotal  \\\n",
       "0         1.0               american             1.0            4      3441   \n",
       "1         2.0                mexican             2.0            1      1900   \n",
       "8         2.0                 indian             3.0            4      4771   \n",
       "14        1.0                italian             1.0            1      1525   \n",
       "15        1.0                italian             1.0            2      3620   \n",
       "\n",
       "    num_distinct_items  min_item_price  max_item_price  \\\n",
       "0                    4             557            1239   \n",
       "1                    1            1400            1400   \n",
       "8                    3             820            1604   \n",
       "14                   1            1525            1525   \n",
       "15                   2            1425            2195   \n",
       "\n",
       "    total_onshift_partners  total_busy_partners  total_outstanding_orders  \\\n",
       "0                     33.0                 14.0                      21.0   \n",
       "1                      1.0                  2.0                       2.0   \n",
       "8                      8.0                  6.0                      18.0   \n",
       "14                     5.0                  6.0                       8.0   \n",
       "15                     5.0                  5.0                       7.0   \n",
       "\n",
       "    delivery_time_mins order_day  created_hour  \n",
       "0                   62    Friday            22  \n",
       "1                   67   Tuesday            21  \n",
       "8                   26    Monday             0  \n",
       "14                  37  Thursday             3  \n",
       "15                  49   Tuesday             2  "
      ]
     },
     "execution_count": 668,
     "metadata": {},
     "output_type": "execute_result"
    }
   ],
   "source": [
    "data.head()"
   ]
  },
  {
   "cell_type": "code",
   "execution_count": 669,
   "id": "ae875a71",
   "metadata": {},
   "outputs": [
    {
     "data": {
      "text/plain": [
       "dtype('O')"
      ]
     },
     "execution_count": 669,
     "metadata": {},
     "output_type": "execute_result"
    }
   ],
   "source": [
    "data['order_day'].dtypes"
   ]
  },
  {
   "cell_type": "code",
   "execution_count": 670,
   "id": "ca8fdb43",
   "metadata": {},
   "outputs": [
    {
     "data": {
      "text/plain": [
       "['store_primary_category', 'order_day']"
      ]
     },
     "execution_count": 670,
     "metadata": {},
     "output_type": "execute_result"
    }
   ],
   "source": [
    "df_subset = data.select_dtypes(exclude=[np.number])\n",
    "object_cols = list(df_subset.columns)\n",
    "object_cols"
   ]
  },
  {
   "cell_type": "code",
   "execution_count": 671,
   "id": "9785ad3c",
   "metadata": {},
   "outputs": [
    {
     "data": {
      "text/plain": [
       "market_id                   0\n",
       "store_primary_category      0\n",
       "order_protocol              0\n",
       "total_items                 0\n",
       "subtotal                    0\n",
       "num_distinct_items          0\n",
       "min_item_price              0\n",
       "max_item_price              0\n",
       "total_onshift_partners      0\n",
       "total_busy_partners         0\n",
       "total_outstanding_orders    0\n",
       "delivery_time_mins          0\n",
       "order_day                   0\n",
       "created_hour                0\n",
       "dtype: int64"
      ]
     },
     "execution_count": 671,
     "metadata": {},
     "output_type": "execute_result"
    }
   ],
   "source": [
    "data.isnull().sum()"
   ]
  },
  {
   "cell_type": "code",
   "execution_count": 672,
   "id": "87cacea7",
   "metadata": {},
   "outputs": [],
   "source": [
    "#  Outlier remover"
   ]
  },
  {
   "cell_type": "code",
   "execution_count": 673,
   "id": "f5525e08",
   "metadata": {},
   "outputs": [],
   "source": [
    "# Another way of outlier-removal\n",
    "for col in data.columns :\n",
    "    if col not in object_cols:\n",
    "        Q1 = data[col].quantile(0.25)\n",
    "        Q3  = data[col].quantile(0.75)\n",
    "        IQR = Q3 - Q1\n",
    "        lower = Q1 - 1.5*IQR\n",
    "        upper = Q3 + 1.5*IQR\n",
    "        data[col] = data[(data[col] < upper) & (data[col] > lower)][col]\n",
    "\n",
    "# processed = pd.DataFrame()\n",
    "# for col in data.columns :\n",
    "#     if col not in object_cols:\n",
    "#         data[col] = data[(np.abs(stats.zscore(data[col])) < 3)][col]\n",
    "#         df[(np.abs(stats.zscore(df[0])) < 3)]"
   ]
  },
  {
   "cell_type": "code",
   "execution_count": 674,
   "id": "d4fb896e",
   "metadata": {},
   "outputs": [],
   "source": [
    "data = data.dropna()"
   ]
  },
  {
   "cell_type": "code",
   "execution_count": 675,
   "id": "c95a2147",
   "metadata": {},
   "outputs": [
    {
     "data": {
      "text/plain": [
       "market_id                   0\n",
       "store_primary_category      0\n",
       "order_protocol              0\n",
       "total_items                 0\n",
       "subtotal                    0\n",
       "num_distinct_items          0\n",
       "min_item_price              0\n",
       "max_item_price              0\n",
       "total_onshift_partners      0\n",
       "total_busy_partners         0\n",
       "total_outstanding_orders    0\n",
       "delivery_time_mins          0\n",
       "order_day                   0\n",
       "created_hour                0\n",
       "dtype: int64"
      ]
     },
     "execution_count": 675,
     "metadata": {},
     "output_type": "execute_result"
    }
   ],
   "source": [
    "data.isnull().sum()"
   ]
  },
  {
   "cell_type": "code",
   "execution_count": 676,
   "id": "923d23fa",
   "metadata": {},
   "outputs": [],
   "source": [
    "y = data['delivery_time_mins']"
   ]
  },
  {
   "cell_type": "code",
   "execution_count": 677,
   "id": "0381492d",
   "metadata": {},
   "outputs": [],
   "source": [
    "data = data.drop(['delivery_time_mins'],axis =1)"
   ]
  },
  {
   "cell_type": "code",
   "execution_count": 678,
   "id": "e47a6a0a",
   "metadata": {},
   "outputs": [
    {
     "data": {
      "text/plain": [
       "0     62.0\n",
       "1     67.0\n",
       "8     26.0\n",
       "14    37.0\n",
       "15    49.0\n",
       "Name: delivery_time_mins, dtype: float64"
      ]
     },
     "execution_count": 678,
     "metadata": {},
     "output_type": "execute_result"
    }
   ],
   "source": [
    "y.head()"
   ]
  },
  {
   "cell_type": "code",
   "execution_count": 679,
   "id": "c7c9329c",
   "metadata": {},
   "outputs": [],
   "source": [
    "rfc=RandomForestClassifier(random_state=42)\n",
    "param_grid = { \n",
    "    'n_estimators': [20, 50,70,100],\n",
    "    'max_features': ['auto', 'sqrt', 'log2'],\n",
    "    'max_depth' : [4,6,8],\n",
    "    'criterion' :['gini', 'entropy']\n",
    "}\n",
    "# CV_rfc = GridSearchCV(estimator=rfc, param_grid=param_grid, cv= 5)\n",
    "# CV_rfc.fit(x_train, y_train)"
   ]
  },
  {
   "cell_type": "code",
   "execution_count": 680,
   "id": "e3e8057f",
   "metadata": {},
   "outputs": [],
   "source": [
    "x_train, X_test, y_train, y_test = train_test_split(data, y, test_size=0.2, random_state=42)\n",
    "X_test,X_val, y_test, y_val =train_test_split(X_test, y_test, test_size = 0.5, random_state = 20)"
   ]
  },
  {
   "cell_type": "code",
   "execution_count": 681,
   "id": "036a4055",
   "metadata": {},
   "outputs": [
    {
     "data": {
      "text/plain": [
       "(113456, 13)"
      ]
     },
     "execution_count": 681,
     "metadata": {},
     "output_type": "execute_result"
    }
   ],
   "source": [
    "x_train.shape"
   ]
  },
  {
   "cell_type": "code",
   "execution_count": 682,
   "id": "8f300242",
   "metadata": {},
   "outputs": [
    {
     "data": {
      "text/plain": [
       "(14182, 13)"
      ]
     },
     "execution_count": 682,
     "metadata": {},
     "output_type": "execute_result"
    }
   ],
   "source": [
    "X_test.shape"
   ]
  },
  {
   "cell_type": "code",
   "execution_count": 683,
   "id": "4b358219",
   "metadata": {},
   "outputs": [
    {
     "data": {
      "text/plain": [
       "(14183, 13)"
      ]
     },
     "execution_count": 683,
     "metadata": {},
     "output_type": "execute_result"
    }
   ],
   "source": [
    "X_val.shape"
   ]
  },
  {
   "cell_type": "code",
   "execution_count": 684,
   "id": "8b945e15",
   "metadata": {},
   "outputs": [],
   "source": [
    "# # one hot encode categorical features\n",
    "# ohe = OneHotEncoder(handle_unknown='ignore',sparse=False)\n",
    "# # store one hot encoder in a pipeline\n",
    "# categorical_processing = Pipeline(steps=[('ohe', ohe),\n",
    "#                                         ('scalar1',StandardScaler())])\n",
    "# # create the ColumnTransormer object\n",
    "# preprocessing = ColumnTransformer(transformers=[('categorical', categorical_processing, ['store_primary_category', 'order_day'])],\n",
    "#                                   remainder='passthrough')"
   ]
  },
  {
   "cell_type": "code",
   "execution_count": 685,
   "id": "47a25b13",
   "metadata": {},
   "outputs": [],
   "source": [
    "remove=['store_primary_category', 'order_day']"
   ]
  },
  {
   "cell_type": "code",
   "execution_count": 686,
   "id": "981812fd",
   "metadata": {},
   "outputs": [
    {
     "data": {
      "text/plain": [
       "11"
      ]
     },
     "execution_count": 686,
     "metadata": {},
     "output_type": "execute_result"
    }
   ],
   "source": [
    "numeric_col = [x for x in data.columns if x not in remove]\n",
    "# and x not in remove.columns\n",
    "len(numeric_col)"
   ]
  },
  {
   "cell_type": "code",
   "execution_count": 687,
   "id": "0761c0f8",
   "metadata": {},
   "outputs": [],
   "source": [
    "column_trans = make_column_transformer(\n",
    "    (OneHotEncoder(sparse=False), ['store_primary_category', 'order_day']),\n",
    "    (StandardScaler(), numeric_col),\n",
    "    remainder='passthrough')"
   ]
  },
  {
   "cell_type": "code",
   "execution_count": 688,
   "id": "bdde5594",
   "metadata": {},
   "outputs": [],
   "source": [
    "# ohe.categories\n",
    "# remove = ['store_primary_category', 'order_day']"
   ]
  },
  {
   "cell_type": "code",
   "execution_count": null,
   "id": "2c7cd8be",
   "metadata": {},
   "outputs": [],
   "source": []
  },
  {
   "cell_type": "code",
   "execution_count": 689,
   "id": "2b0fcc9b",
   "metadata": {},
   "outputs": [
    {
     "data": {
      "text/plain": [
       "13"
      ]
     },
     "execution_count": 689,
     "metadata": {},
     "output_type": "execute_result"
    }
   ],
   "source": [
    "len(data.columns)"
   ]
  },
  {
   "cell_type": "code",
   "execution_count": 690,
   "id": "d725bd98",
   "metadata": {},
   "outputs": [],
   "source": [
    "# train_data = pd.DataFrame(x_train)\n",
    "# target_op= pd.DataFrame(y_train)\n",
    "# train_data.to_csv('x_train.csv')\n",
    "# target_op.to_csv('y_train.csv')\n",
    "\n",
    "# train_data = pd.DataFrame(X_test)\n",
    "# target_op= pd.DataFrame(y_test)\n",
    "# train_data.to_csv('X_test.csv')\n",
    "# target_op.to_csv('y_test.csv')\n",
    "\n",
    "# train_data = pd.DataFrame(X_val)\n",
    "# target_op= pd.DataFrame(y_val)\n",
    "# train_data.to_csv('x_val.csv')\n",
    "# target_op.to_csv('y_val.csv')"
   ]
  },
  {
   "cell_type": "code",
   "execution_count": 691,
   "id": "f509749a",
   "metadata": {},
   "outputs": [],
   "source": [
    "data_oneHot_xtrain = column_trans.fit_transform(x_train)"
   ]
  },
  {
   "cell_type": "code",
   "execution_count": 692,
   "id": "d29a3a68",
   "metadata": {},
   "outputs": [],
   "source": [
    "# data_oneHot"
   ]
  },
  {
   "cell_type": "code",
   "execution_count": 693,
   "id": "b3bc50e8",
   "metadata": {},
   "outputs": [],
   "source": [
    "# pd.DataFrame(data_oneHot)"
   ]
  },
  {
   "cell_type": "code",
   "execution_count": 694,
   "id": "4d5d68b6",
   "metadata": {},
   "outputs": [
    {
     "data": {
      "text/plain": [
       "(113456, 90)"
      ]
     },
     "execution_count": 694,
     "metadata": {},
     "output_type": "execute_result"
    }
   ],
   "source": [
    "data_oneHot_xtrain.shape"
   ]
  },
  {
   "cell_type": "code",
   "execution_count": 695,
   "id": "3739939b",
   "metadata": {},
   "outputs": [
    {
     "data": {
      "text/plain": [
       "pandas.core.series.Series"
      ]
     },
     "execution_count": 695,
     "metadata": {},
     "output_type": "execute_result"
    }
   ],
   "source": [
    "type(y_train)"
   ]
  },
  {
   "cell_type": "code",
   "execution_count": 696,
   "id": "1f7c6896",
   "metadata": {},
   "outputs": [
    {
     "data": {
      "text/plain": [
       "93342     59.0\n",
       "63742     58.0\n",
       "188484    39.0\n",
       "120405    39.0\n",
       "42226     32.0\n",
       "          ... \n",
       "154238    41.0\n",
       "167071    48.0\n",
       "145178    44.0\n",
       "184052    33.0\n",
       "169990    39.0\n",
       "Name: delivery_time_mins, Length: 113456, dtype: float64"
      ]
     },
     "execution_count": 696,
     "metadata": {},
     "output_type": "execute_result"
    }
   ],
   "source": [
    "y_train"
   ]
  },
  {
   "cell_type": "code",
   "execution_count": 697,
   "id": "b422a973",
   "metadata": {},
   "outputs": [],
   "source": [
    "# y_train_numpy =y_train.to_numpy()\n",
    "# res_y_train = y_train_numpy.reshape(1,-1)"
   ]
  },
  {
   "cell_type": "code",
   "execution_count": 698,
   "id": "bbeaf1ba",
   "metadata": {},
   "outputs": [],
   "source": [
    "# res_y_train"
   ]
  },
  {
   "cell_type": "code",
   "execution_count": 699,
   "id": "2f0a6521",
   "metadata": {},
   "outputs": [],
   "source": [
    "# scaler.fit_transform(y_train[:, np.newaxis])"
   ]
  },
  {
   "cell_type": "code",
   "execution_count": 700,
   "id": "8aadfffc",
   "metadata": {},
   "outputs": [],
   "source": [
    "# y_train_scaled = scale.fit_transform(y_train[:, np.newaxis])"
   ]
  },
  {
   "cell_type": "code",
   "execution_count": 701,
   "id": "cad4c74a",
   "metadata": {},
   "outputs": [],
   "source": [
    "# y_train_scaled"
   ]
  },
  {
   "cell_type": "code",
   "execution_count": 702,
   "id": "49d5615d",
   "metadata": {},
   "outputs": [],
   "source": [
    "# y_scaled.shape"
   ]
  },
  {
   "cell_type": "code",
   "execution_count": 703,
   "id": "7ffb5266",
   "metadata": {},
   "outputs": [],
   "source": [
    "# ohe.categories"
   ]
  },
  {
   "cell_type": "code",
   "execution_count": 704,
   "id": "766b5674",
   "metadata": {},
   "outputs": [],
   "source": [
    "CV_rfc = GridSearchCV(estimator=rfc, param_grid=param_grid, cv= 5,verbose = 5)\n",
    "\n",
    "# CV_rfc = GridSearchCV(categorical_processing,estimator=rfc, param_grid=param_grid, cv= 5)\n",
    "CV_rfc.fit(data_oneHot, y_train)"
   ]
  },
  {
   "cell_type": "code",
   "execution_count": 705,
   "id": "59875705",
   "metadata": {},
   "outputs": [],
   "source": [
    "CV_rfc.best_params_=    {'criterion': 'entropy',\n",
    " 'max_depth': 4,\n",
    " 'max_features': 'auto',\n",
    " 'n_estimators': 20}"
   ]
  },
  {
   "cell_type": "markdown",
   "id": "56b672df",
   "metadata": {},
   "source": [
    "<h5> best parms :<br/>\n",
    "    {'criterion': 'entropy',\n",
    " 'max_depth': 4,\n",
    " 'max_features': 'auto',\n",
    " 'n_estimators': 20}\n",
    "    <h5>"
   ]
  },
  {
   "cell_type": "code",
   "execution_count": 706,
   "id": "904d27ec",
   "metadata": {},
   "outputs": [],
   "source": [
    "rfc1=rfc.set_params(**CV_rfc.best_params_)"
   ]
  },
  {
   "cell_type": "code",
   "execution_count": null,
   "id": "5e93479e",
   "metadata": {},
   "outputs": [],
   "source": []
  },
  {
   "cell_type": "code",
   "execution_count": 707,
   "id": "702f16a8",
   "metadata": {},
   "outputs": [
    {
     "data": {
      "text/plain": [
       "RandomForestClassifier(criterion='entropy', max_depth=4, n_estimators=20,\n",
       "                       random_state=42)"
      ]
     },
     "execution_count": 707,
     "metadata": {},
     "output_type": "execute_result"
    }
   ],
   "source": [
    "rfc1.fit(data_oneHot_xtrain, y_train)"
   ]
  },
  {
   "cell_type": "code",
   "execution_count": 708,
   "id": "4ec11d2d",
   "metadata": {},
   "outputs": [],
   "source": [
    "def evaluate(model, test_features, test_labels):\n",
    "    predictions = model.predict(test_features)\n",
    "    errors = abs(predictions - test_labels)\n",
    "    mape = 100 * np.mean(errors / test_labels)\n",
    "    accuracy = 100 - mape\n",
    "    print('Model Performance')\n",
    "    print('Average Error: {:0.4f} degrees.'.format(np.mean(errors)))\n",
    "    print('Accuracy = {:0.2f}%.'.format(accuracy))\n",
    "    \n",
    "    return accuracy"
   ]
  },
  {
   "cell_type": "code",
   "execution_count": 709,
   "id": "c2cbf98f",
   "metadata": {},
   "outputs": [],
   "source": [
    "# X_test =X_test.to_numpy().reshape(-1, 1)"
   ]
  },
  {
   "cell_type": "code",
   "execution_count": 710,
   "id": "72685700",
   "metadata": {},
   "outputs": [],
   "source": [
    "# to_numpy()\n",
    "# X_test"
   ]
  },
  {
   "cell_type": "code",
   "execution_count": 711,
   "id": "ee260c16",
   "metadata": {},
   "outputs": [],
   "source": [
    "X_test_transformed = column_trans.transform(X_test)"
   ]
  },
  {
   "cell_type": "code",
   "execution_count": null,
   "id": "9baf4239",
   "metadata": {},
   "outputs": [],
   "source": []
  },
  {
   "cell_type": "code",
   "execution_count": 712,
   "id": "b977f906",
   "metadata": {},
   "outputs": [
    {
     "data": {
      "text/plain": [
       "(14182, 90)"
      ]
     },
     "execution_count": 712,
     "metadata": {},
     "output_type": "execute_result"
    }
   ],
   "source": [
    "X_test_transformed.shape"
   ]
  },
  {
   "cell_type": "code",
   "execution_count": 713,
   "id": "67c6242c",
   "metadata": {},
   "outputs": [
    {
     "name": "stdout",
     "output_type": "stream",
     "text": [
      "Model Performance\n",
      "Average Error: 11.3731 degrees.\n",
      "Accuracy = 74.69%.\n"
     ]
    }
   ],
   "source": [
    "random_accuracy = evaluate(rfc1, X_test_transformed, y_test)\n",
    "# predictions = rfc1.predict(X_test)"
   ]
  },
  {
   "cell_type": "code",
   "execution_count": 714,
   "id": "bf4eedf0",
   "metadata": {},
   "outputs": [],
   "source": [
    "predictions = rfc1.predict(X_test_transformed)"
   ]
  },
  {
   "cell_type": "code",
   "execution_count": 715,
   "id": "ea4efd50",
   "metadata": {},
   "outputs": [
    {
     "data": {
      "text/plain": [
       "array([39., 36., 41., 38., 34., 34., 39., 34., 39., 39.])"
      ]
     },
     "execution_count": 715,
     "metadata": {},
     "output_type": "execute_result"
    }
   ],
   "source": [
    "predictions[5:15]"
   ]
  },
  {
   "cell_type": "code",
   "execution_count": 716,
   "id": "93590832",
   "metadata": {},
   "outputs": [
    {
     "data": {
      "text/plain": [
       "20077     34.0\n",
       "85393     51.0\n",
       "118176    34.0\n",
       "137739    29.0\n",
       "29126     30.0\n",
       "186       24.0\n",
       "18825     56.0\n",
       "79779     30.0\n",
       "138364    27.0\n",
       "167255    49.0\n",
       "Name: delivery_time_mins, dtype: float64"
      ]
     },
     "execution_count": 716,
     "metadata": {},
     "output_type": "execute_result"
    }
   ],
   "source": [
    "y_test[5:15]"
   ]
  },
  {
   "cell_type": "code",
   "execution_count": null,
   "id": "c95642c1",
   "metadata": {},
   "outputs": [],
   "source": []
  },
  {
   "cell_type": "markdown",
   "id": "80b9167b",
   "metadata": {},
   "source": [
    "<h3>mean_squared_error</h3>"
   ]
  },
  {
   "cell_type": "code",
   "execution_count": 717,
   "id": "2f542af7",
   "metadata": {},
   "outputs": [
    {
     "data": {
      "text/plain": [
       "228.93759695388522"
      ]
     },
     "execution_count": 717,
     "metadata": {},
     "output_type": "execute_result"
    }
   ],
   "source": [
    "mean_squared_error(y_test, predictions)"
   ]
  },
  {
   "cell_type": "markdown",
   "id": "3c044ec2",
   "metadata": {},
   "source": [
    "<h3>root_mean_squared_error</h3>"
   ]
  },
  {
   "cell_type": "code",
   "execution_count": 718,
   "id": "44bd29a3",
   "metadata": {},
   "outputs": [
    {
     "data": {
      "text/plain": [
       "15.13068395525745"
      ]
     },
     "execution_count": 718,
     "metadata": {},
     "output_type": "execute_result"
    }
   ],
   "source": [
    "mean_squared_error(y_test, predictions, squared=False)"
   ]
  },
  {
   "cell_type": "markdown",
   "id": "d028c48b",
   "metadata": {},
   "source": [
    "<h3>mean_absolute_error</h3>"
   ]
  },
  {
   "cell_type": "code",
   "execution_count": 719,
   "id": "b8306c2d",
   "metadata": {},
   "outputs": [
    {
     "data": {
      "text/plain": [
       "11.373078550274997"
      ]
     },
     "execution_count": 719,
     "metadata": {},
     "output_type": "execute_result"
    }
   ],
   "source": [
    "mean_absolute_error(y_test, predictions)"
   ]
  },
  {
   "cell_type": "markdown",
   "id": "7c63b351",
   "metadata": {},
   "source": [
    "<h2>Deep neural network :</h2>"
   ]
  },
  {
   "cell_type": "code",
   "execution_count": null,
   "id": "26d7d659",
   "metadata": {},
   "outputs": [],
   "source": []
  },
  {
   "cell_type": "code",
   "execution_count": 741,
   "id": "94a6d116",
   "metadata": {},
   "outputs": [],
   "source": [
    "column_trans2 = make_column_transformer(\n",
    "    (OneHotEncoder(sparse=False), ['store_primary_category', 'order_day']),\n",
    "    (StandardScaler(), numeric_col),\n",
    "    remainder='passthrough')"
   ]
  },
  {
   "cell_type": "code",
   "execution_count": 742,
   "id": "2ec093b6",
   "metadata": {},
   "outputs": [],
   "source": [
    "# NN_model = Sequential()\n",
    "\n",
    "# # The Input Layer :\n",
    "# NN_model.add(Dense(128, kernel_initializer='normal',input_dim = train.shape[1], activation='relu'))\n",
    "\n",
    "# # The Hidden Layers :\n",
    "# NN_model.add(Dense(256, kernel_initializer='normal',activation='relu'))\n",
    "# NN_model.add(Dense(256, kernel_initializer='normal',activation='relu'))\n",
    "# NN_model.add(Dense(256, kernel_initializer='normal',activation='relu'))\n",
    "\n",
    "# # The Output Layer :\n",
    "# NN_model.add(Dense(1, kernel_initializer='normal',activation='linear'))\n",
    "\n",
    "# # Compile the network :\n",
    "# NN_model.compile(loss='mean_absolute_error', optimizer='adam', metrics=['mean_absolute_error'])\n",
    "# NN_model.summary()"
   ]
  },
  {
   "cell_type": "code",
   "execution_count": 743,
   "id": "fec97e78",
   "metadata": {},
   "outputs": [
    {
     "name": "stdout",
     "output_type": "stream",
     "text": [
      "Model: \"sequential_25\"\n",
      "_________________________________________________________________\n",
      " Layer (type)                Output Shape              Param #   \n",
      "=================================================================\n",
      " dense_91 (Dense)            (None, 128)               11648     \n",
      "                                                                 \n",
      " dense_92 (Dense)            (None, 64)                8256      \n",
      "                                                                 \n",
      " dense_93 (Dense)            (None, 1)                 65        \n",
      "                                                                 \n",
      "=================================================================\n",
      "Total params: 19,969\n",
      "Trainable params: 19,969\n",
      "Non-trainable params: 0\n",
      "_________________________________________________________________\n"
     ]
    }
   ],
   "source": [
    "model = Sequential()\n",
    "model.add(Dense(128, kernel_initializer='normal' ,input_dim=90, activation='relu'))\n",
    "model.add(Dense(64, kernel_initializer='normal' ,activation='relu'))\n",
    "# model.add(Dense(32, kernel_initializer='normal' ,activation='relu'))\n",
    "# model.add(Dense(16, kernel_initializer='normal' ,activation='relu'))\n",
    "#Output layer\n",
    "model.add(Dense(1, activation='linear'))\n",
    "\n",
    "model.compile(loss='mean_squared_error', optimizer='adam', metrics=['mae'])\n",
    "model.summary()"
   ]
  },
  {
   "cell_type": "code",
   "execution_count": 744,
   "id": "5d9db164",
   "metadata": {},
   "outputs": [],
   "source": [
    "# model.compile(optimizer = tf.keras.optimizers.Adam(beta_1 = 0.2, beta_2 = 0.999 ),\n",
    "#                 loss = tf.keras.losses.CategoricalCrossentropy() )"
   ]
  },
  {
   "cell_type": "code",
   "execution_count": 745,
   "id": "d1926563",
   "metadata": {},
   "outputs": [],
   "source": [
    "# filepath=\"model22.hdf5\",\n",
    "mc=tf.keras.callbacks.ModelCheckpoint(\n",
    "filepath=\"model22.hdf5\",\n",
    "save_weights_only=False,\n",
    "monitor='val_loss',\n",
    "mode='min',\n",
    "save_best_only=True)\n",
    "es=tf.keras.callbacks.EarlyStopping(monitor='val_loss',\n",
    "patience=10,min_delta=0.0002)"
   ]
  },
  {
   "cell_type": "code",
   "execution_count": 746,
   "id": "24a21d1e",
   "metadata": {},
   "outputs": [
    {
     "data": {
      "text/html": [
       "<div>\n",
       "<style scoped>\n",
       "    .dataframe tbody tr th:only-of-type {\n",
       "        vertical-align: middle;\n",
       "    }\n",
       "\n",
       "    .dataframe tbody tr th {\n",
       "        vertical-align: top;\n",
       "    }\n",
       "\n",
       "    .dataframe thead th {\n",
       "        text-align: right;\n",
       "    }\n",
       "</style>\n",
       "<table border=\"1\" class=\"dataframe\">\n",
       "  <thead>\n",
       "    <tr style=\"text-align: right;\">\n",
       "      <th></th>\n",
       "      <th>market_id</th>\n",
       "      <th>store_primary_category</th>\n",
       "      <th>order_protocol</th>\n",
       "      <th>total_items</th>\n",
       "      <th>subtotal</th>\n",
       "      <th>num_distinct_items</th>\n",
       "      <th>min_item_price</th>\n",
       "      <th>max_item_price</th>\n",
       "      <th>total_onshift_partners</th>\n",
       "      <th>total_busy_partners</th>\n",
       "      <th>total_outstanding_orders</th>\n",
       "      <th>order_day</th>\n",
       "      <th>created_hour</th>\n",
       "    </tr>\n",
       "  </thead>\n",
       "  <tbody>\n",
       "    <tr>\n",
       "      <th>93342</th>\n",
       "      <td>1.0</td>\n",
       "      <td>japanese</td>\n",
       "      <td>4.0</td>\n",
       "      <td>1.0</td>\n",
       "      <td>890.0</td>\n",
       "      <td>1.0</td>\n",
       "      <td>890.0</td>\n",
       "      <td>890.0</td>\n",
       "      <td>65.0</td>\n",
       "      <td>67.0</td>\n",
       "      <td>92.0</td>\n",
       "      <td>Saturday</td>\n",
       "      <td>3</td>\n",
       "    </tr>\n",
       "    <tr>\n",
       "      <th>63742</th>\n",
       "      <td>2.0</td>\n",
       "      <td>burger</td>\n",
       "      <td>4.0</td>\n",
       "      <td>2.0</td>\n",
       "      <td>908.0</td>\n",
       "      <td>2.0</td>\n",
       "      <td>309.0</td>\n",
       "      <td>599.0</td>\n",
       "      <td>91.0</td>\n",
       "      <td>73.0</td>\n",
       "      <td>90.0</td>\n",
       "      <td>Wednesday</td>\n",
       "      <td>1</td>\n",
       "    </tr>\n",
       "    <tr>\n",
       "      <th>188484</th>\n",
       "      <td>3.0</td>\n",
       "      <td>japanese</td>\n",
       "      <td>1.0</td>\n",
       "      <td>1.0</td>\n",
       "      <td>599.0</td>\n",
       "      <td>1.0</td>\n",
       "      <td>599.0</td>\n",
       "      <td>599.0</td>\n",
       "      <td>10.0</td>\n",
       "      <td>7.0</td>\n",
       "      <td>6.0</td>\n",
       "      <td>Monday</td>\n",
       "      <td>22</td>\n",
       "    </tr>\n",
       "    <tr>\n",
       "      <th>120405</th>\n",
       "      <td>2.0</td>\n",
       "      <td>indian</td>\n",
       "      <td>3.0</td>\n",
       "      <td>2.0</td>\n",
       "      <td>1498.0</td>\n",
       "      <td>2.0</td>\n",
       "      <td>699.0</td>\n",
       "      <td>799.0</td>\n",
       "      <td>26.0</td>\n",
       "      <td>21.0</td>\n",
       "      <td>27.0</td>\n",
       "      <td>Friday</td>\n",
       "      <td>5</td>\n",
       "    </tr>\n",
       "    <tr>\n",
       "      <th>42226</th>\n",
       "      <td>2.0</td>\n",
       "      <td>smoothie</td>\n",
       "      <td>2.0</td>\n",
       "      <td>3.0</td>\n",
       "      <td>1747.0</td>\n",
       "      <td>3.0</td>\n",
       "      <td>499.0</td>\n",
       "      <td>599.0</td>\n",
       "      <td>9.0</td>\n",
       "      <td>6.0</td>\n",
       "      <td>6.0</td>\n",
       "      <td>Tuesday</td>\n",
       "      <td>18</td>\n",
       "    </tr>\n",
       "  </tbody>\n",
       "</table>\n",
       "</div>"
      ],
      "text/plain": [
       "        market_id store_primary_category  order_protocol  total_items  \\\n",
       "93342         1.0               japanese             4.0          1.0   \n",
       "63742         2.0                 burger             4.0          2.0   \n",
       "188484        3.0               japanese             1.0          1.0   \n",
       "120405        2.0                 indian             3.0          2.0   \n",
       "42226         2.0               smoothie             2.0          3.0   \n",
       "\n",
       "        subtotal  num_distinct_items  min_item_price  max_item_price  \\\n",
       "93342      890.0                 1.0           890.0           890.0   \n",
       "63742      908.0                 2.0           309.0           599.0   \n",
       "188484     599.0                 1.0           599.0           599.0   \n",
       "120405    1498.0                 2.0           699.0           799.0   \n",
       "42226     1747.0                 3.0           499.0           599.0   \n",
       "\n",
       "        total_onshift_partners  total_busy_partners  total_outstanding_orders  \\\n",
       "93342                     65.0                 67.0                      92.0   \n",
       "63742                     91.0                 73.0                      90.0   \n",
       "188484                    10.0                  7.0                       6.0   \n",
       "120405                    26.0                 21.0                      27.0   \n",
       "42226                      9.0                  6.0                       6.0   \n",
       "\n",
       "        order_day  created_hour  \n",
       "93342    Saturday             3  \n",
       "63742   Wednesday             1  \n",
       "188484     Monday            22  \n",
       "120405     Friday             5  \n",
       "42226     Tuesday            18  "
      ]
     },
     "execution_count": 746,
     "metadata": {},
     "output_type": "execute_result"
    }
   ],
   "source": [
    "x_train.head(5)"
   ]
  },
  {
   "cell_type": "code",
   "execution_count": 747,
   "id": "769b4a31",
   "metadata": {},
   "outputs": [
    {
     "data": {
      "text/html": [
       "<div>\n",
       "<style scoped>\n",
       "    .dataframe tbody tr th:only-of-type {\n",
       "        vertical-align: middle;\n",
       "    }\n",
       "\n",
       "    .dataframe tbody tr th {\n",
       "        vertical-align: top;\n",
       "    }\n",
       "\n",
       "    .dataframe thead th {\n",
       "        text-align: right;\n",
       "    }\n",
       "</style>\n",
       "<table border=\"1\" class=\"dataframe\">\n",
       "  <thead>\n",
       "    <tr style=\"text-align: right;\">\n",
       "      <th></th>\n",
       "      <th>market_id</th>\n",
       "      <th>store_primary_category</th>\n",
       "      <th>order_protocol</th>\n",
       "      <th>total_items</th>\n",
       "      <th>subtotal</th>\n",
       "      <th>num_distinct_items</th>\n",
       "      <th>min_item_price</th>\n",
       "      <th>max_item_price</th>\n",
       "      <th>total_onshift_partners</th>\n",
       "      <th>total_busy_partners</th>\n",
       "      <th>total_outstanding_orders</th>\n",
       "      <th>order_day</th>\n",
       "      <th>created_hour</th>\n",
       "    </tr>\n",
       "  </thead>\n",
       "  <tbody>\n",
       "    <tr>\n",
       "      <th>77311</th>\n",
       "      <td>3.0</td>\n",
       "      <td>salad</td>\n",
       "      <td>5.0</td>\n",
       "      <td>3.0</td>\n",
       "      <td>2540.0</td>\n",
       "      <td>3.0</td>\n",
       "      <td>550.0</td>\n",
       "      <td>995.0</td>\n",
       "      <td>59.0</td>\n",
       "      <td>59.0</td>\n",
       "      <td>68.0</td>\n",
       "      <td>Monday</td>\n",
       "      <td>2</td>\n",
       "    </tr>\n",
       "    <tr>\n",
       "      <th>63940</th>\n",
       "      <td>4.0</td>\n",
       "      <td>cafe</td>\n",
       "      <td>4.0</td>\n",
       "      <td>2.0</td>\n",
       "      <td>900.0</td>\n",
       "      <td>2.0</td>\n",
       "      <td>295.0</td>\n",
       "      <td>295.0</td>\n",
       "      <td>10.0</td>\n",
       "      <td>4.0</td>\n",
       "      <td>4.0</td>\n",
       "      <td>Tuesday</td>\n",
       "      <td>16</td>\n",
       "    </tr>\n",
       "    <tr>\n",
       "      <th>185786</th>\n",
       "      <td>4.0</td>\n",
       "      <td>dessert</td>\n",
       "      <td>5.0</td>\n",
       "      <td>2.0</td>\n",
       "      <td>3530.0</td>\n",
       "      <td>2.0</td>\n",
       "      <td>1195.0</td>\n",
       "      <td>1195.0</td>\n",
       "      <td>57.0</td>\n",
       "      <td>52.0</td>\n",
       "      <td>80.0</td>\n",
       "      <td>Thursday</td>\n",
       "      <td>19</td>\n",
       "    </tr>\n",
       "    <tr>\n",
       "      <th>155415</th>\n",
       "      <td>2.0</td>\n",
       "      <td>french</td>\n",
       "      <td>5.0</td>\n",
       "      <td>5.0</td>\n",
       "      <td>3685.0</td>\n",
       "      <td>5.0</td>\n",
       "      <td>450.0</td>\n",
       "      <td>1250.0</td>\n",
       "      <td>4.0</td>\n",
       "      <td>4.0</td>\n",
       "      <td>4.0</td>\n",
       "      <td>Friday</td>\n",
       "      <td>16</td>\n",
       "    </tr>\n",
       "    <tr>\n",
       "      <th>77185</th>\n",
       "      <td>2.0</td>\n",
       "      <td>burger</td>\n",
       "      <td>5.0</td>\n",
       "      <td>1.0</td>\n",
       "      <td>1100.0</td>\n",
       "      <td>1.0</td>\n",
       "      <td>1100.0</td>\n",
       "      <td>1100.0</td>\n",
       "      <td>33.0</td>\n",
       "      <td>32.0</td>\n",
       "      <td>36.0</td>\n",
       "      <td>Wednesday</td>\n",
       "      <td>4</td>\n",
       "    </tr>\n",
       "  </tbody>\n",
       "</table>\n",
       "</div>"
      ],
      "text/plain": [
       "        market_id store_primary_category  order_protocol  total_items  \\\n",
       "77311         3.0                  salad             5.0          3.0   \n",
       "63940         4.0                   cafe             4.0          2.0   \n",
       "185786        4.0                dessert             5.0          2.0   \n",
       "155415        2.0                 french             5.0          5.0   \n",
       "77185         2.0                 burger             5.0          1.0   \n",
       "\n",
       "        subtotal  num_distinct_items  min_item_price  max_item_price  \\\n",
       "77311     2540.0                 3.0           550.0           995.0   \n",
       "63940      900.0                 2.0           295.0           295.0   \n",
       "185786    3530.0                 2.0          1195.0          1195.0   \n",
       "155415    3685.0                 5.0           450.0          1250.0   \n",
       "77185     1100.0                 1.0          1100.0          1100.0   \n",
       "\n",
       "        total_onshift_partners  total_busy_partners  total_outstanding_orders  \\\n",
       "77311                     59.0                 59.0                      68.0   \n",
       "63940                     10.0                  4.0                       4.0   \n",
       "185786                    57.0                 52.0                      80.0   \n",
       "155415                     4.0                  4.0                       4.0   \n",
       "77185                     33.0                 32.0                      36.0   \n",
       "\n",
       "        order_day  created_hour  \n",
       "77311      Monday             2  \n",
       "63940     Tuesday            16  \n",
       "185786   Thursday            19  \n",
       "155415     Friday            16  \n",
       "77185   Wednesday             4  "
      ]
     },
     "execution_count": 747,
     "metadata": {},
     "output_type": "execute_result"
    }
   ],
   "source": [
    "X_test.head(5)"
   ]
  },
  {
   "cell_type": "code",
   "execution_count": 748,
   "id": "5ced70e3",
   "metadata": {},
   "outputs": [],
   "source": [
    "# x_train\n",
    "data_oneHot = column_trans2.fit_transform(x_train)\n",
    "# y_train_one =\n",
    "data_oneHot_xval = column_trans2.transform(X_test)"
   ]
  },
  {
   "cell_type": "code",
   "execution_count": 749,
   "id": "9099ec9b",
   "metadata": {},
   "outputs": [
    {
     "data": {
      "text/plain": [
       "(113456, 90)"
      ]
     },
     "execution_count": 749,
     "metadata": {},
     "output_type": "execute_result"
    }
   ],
   "source": [
    "data_oneHot.shape"
   ]
  },
  {
   "cell_type": "code",
   "execution_count": 750,
   "id": "63c3fd5c",
   "metadata": {},
   "outputs": [
    {
     "data": {
      "text/plain": [
       "array([[ 0.        ,  0.        ,  0.        , ...,  0.96487257,\n",
       "         0.89028382, -0.69138028],\n",
       "       [ 0.        ,  0.        ,  0.        , ...,  1.17018759,\n",
       "         0.8458187 , -0.91765059],\n",
       "       [ 0.        ,  0.        ,  0.        , ..., -1.08827765,\n",
       "        -1.02171606,  1.45818765],\n",
       "       ...,\n",
       "       [ 0.        ,  0.        ,  0.        , ..., -0.81452429,\n",
       "        -0.79939049,  1.45818765],\n",
       "       [ 0.        ,  0.        ,  0.        , ...,  2.02566685,\n",
       "         2.66888835, -0.80451543],\n",
       "       [ 0.        ,  0.        ,  0.        , ..., -1.2593735 ,\n",
       "        -1.11064628,  0.77937672]])"
      ]
     },
     "execution_count": 750,
     "metadata": {},
     "output_type": "execute_result"
    }
   ],
   "source": [
    "data_oneHot"
   ]
  },
  {
   "cell_type": "code",
   "execution_count": 751,
   "id": "165ac261",
   "metadata": {},
   "outputs": [
    {
     "data": {
      "text/plain": [
       "(14182, 90)"
      ]
     },
     "execution_count": 751,
     "metadata": {},
     "output_type": "execute_result"
    }
   ],
   "source": [
    "data_oneHot_xval.shape"
   ]
  },
  {
   "cell_type": "code",
   "execution_count": 752,
   "id": "fe9d7a39",
   "metadata": {},
   "outputs": [
    {
     "data": {
      "text/plain": [
       "77311     50.0\n",
       "63940     19.0\n",
       "185786    61.0\n",
       "155415    44.0\n",
       "77185     32.0\n",
       "          ... \n",
       "174247    32.0\n",
       "9984      59.0\n",
       "127066    59.0\n",
       "106671    31.0\n",
       "97598     35.0\n",
       "Name: delivery_time_mins, Length: 14182, dtype: float64"
      ]
     },
     "execution_count": 752,
     "metadata": {},
     "output_type": "execute_result"
    }
   ],
   "source": [
    "y_test"
   ]
  },
  {
   "cell_type": "code",
   "execution_count": 753,
   "id": "daa25569",
   "metadata": {},
   "outputs": [
    {
     "data": {
      "text/plain": [
       "126662    39.0\n",
       "180424    37.0\n",
       "185046    33.0\n",
       "169881    29.0\n",
       "81968     41.0\n",
       "          ... \n",
       "133956    33.0\n",
       "103210    32.0\n",
       "63085     35.0\n",
       "60914     40.0\n",
       "88286     45.0\n",
       "Name: delivery_time_mins, Length: 14183, dtype: float64"
      ]
     },
     "execution_count": 753,
     "metadata": {},
     "output_type": "execute_result"
    }
   ],
   "source": [
    "y_val"
   ]
  },
  {
   "cell_type": "code",
   "execution_count": 754,
   "id": "ec784dc3",
   "metadata": {},
   "outputs": [
    {
     "name": "stdout",
     "output_type": "stream",
     "text": [
      "Epoch 1/200\n",
      "WARNING:tensorflow:AutoGraph could not transform <function Model.make_train_function.<locals>.train_function at 0x0000027ED4EC8A68> and will run it as-is.\n",
      "Please report this to the TensorFlow team. When filing the bug, set the verbosity to 10 (on Linux, `export AUTOGRAPH_VERBOSITY=10`) and attach the full output.\n",
      "Cause: 'arguments' object has no attribute 'posonlyargs'\n",
      "To silence this warning, decorate the function with @tf.autograph.experimental.do_not_convert\n",
      "WARNING: AutoGraph could not transform <function Model.make_train_function.<locals>.train_function at 0x0000027ED4EC8A68> and will run it as-is.\n",
      "Please report this to the TensorFlow team. When filing the bug, set the verbosity to 10 (on Linux, `export AUTOGRAPH_VERBOSITY=10`) and attach the full output.\n",
      "Cause: 'arguments' object has no attribute 'posonlyargs'\n",
      "To silence this warning, decorate the function with @tf.autograph.experimental.do_not_convert\n",
      "3518/3546 [============================>.] - ETA: 0s - loss: 202.2694 - mae: 10.9715WARNING:tensorflow:AutoGraph could not transform <function Model.make_test_function.<locals>.test_function at 0x0000027E829BC798> and will run it as-is.\n",
      "Please report this to the TensorFlow team. When filing the bug, set the verbosity to 10 (on Linux, `export AUTOGRAPH_VERBOSITY=10`) and attach the full output.\n",
      "Cause: 'arguments' object has no attribute 'posonlyargs'\n",
      "To silence this warning, decorate the function with @tf.autograph.experimental.do_not_convert\n",
      "WARNING: AutoGraph could not transform <function Model.make_test_function.<locals>.test_function at 0x0000027E829BC798> and will run it as-is.\n",
      "Please report this to the TensorFlow team. When filing the bug, set the verbosity to 10 (on Linux, `export AUTOGRAPH_VERBOSITY=10`) and attach the full output.\n",
      "Cause: 'arguments' object has no attribute 'posonlyargs'\n",
      "To silence this warning, decorate the function with @tf.autograph.experimental.do_not_convert\n",
      "3546/3546 [==============================] - 7s 2ms/step - loss: 202.0160 - mae: 10.9667 - val_loss: 165.4554 - val_mae: 10.1962\n",
      "Epoch 2/200\n",
      "3546/3546 [==============================] - 6s 2ms/step - loss: 168.6902 - mae: 10.2749 - val_loss: 166.6453 - val_mae: 10.3696\n",
      "Epoch 3/200\n",
      "3546/3546 [==============================] - 6s 2ms/step - loss: 166.9780 - mae: 10.2143 - val_loss: 163.5546 - val_mae: 9.9894\n",
      "Epoch 4/200\n",
      "3546/3546 [==============================] - 6s 2ms/step - loss: 166.2145 - mae: 10.1898 - val_loss: 163.5333 - val_mae: 10.2426\n",
      "Epoch 5/200\n",
      "3546/3546 [==============================] - 6s 2ms/step - loss: 165.2767 - mae: 10.1559 - val_loss: 163.7968 - val_mae: 10.1646\n",
      "Epoch 6/200\n",
      "3546/3546 [==============================] - 6s 2ms/step - loss: 164.4942 - mae: 10.1340 - val_loss: 160.4391 - val_mae: 10.0644\n",
      "Epoch 7/200\n",
      "3546/3546 [==============================] - 6s 2ms/step - loss: 163.7298 - mae: 10.1083 - val_loss: 161.9500 - val_mae: 10.0558\n",
      "Epoch 8/200\n",
      "3546/3546 [==============================] - 6s 2ms/step - loss: 163.1562 - mae: 10.0828 - val_loss: 160.6727 - val_mae: 9.9875\n",
      "Epoch 9/200\n",
      "3546/3546 [==============================] - 6s 2ms/step - loss: 162.5778 - mae: 10.0661 - val_loss: 159.3624 - val_mae: 9.9469\n",
      "Epoch 10/200\n",
      "3546/3546 [==============================] - 6s 2ms/step - loss: 162.2514 - mae: 10.0568 - val_loss: 159.6461 - val_mae: 9.9964\n",
      "Epoch 11/200\n",
      "3546/3546 [==============================] - 6s 2ms/step - loss: 161.8095 - mae: 10.0420 - val_loss: 160.6661 - val_mae: 9.9525\n",
      "Epoch 12/200\n",
      "3546/3546 [==============================] - 6s 2ms/step - loss: 161.3083 - mae: 10.0246 - val_loss: 159.4608 - val_mae: 9.9807\n",
      "Epoch 13/200\n",
      "3546/3546 [==============================] - 6s 2ms/step - loss: 160.7511 - mae: 10.0075 - val_loss: 159.1365 - val_mae: 9.9492\n",
      "Epoch 14/200\n",
      "3546/3546 [==============================] - 6s 2ms/step - loss: 160.0437 - mae: 9.9854 - val_loss: 157.7276 - val_mae: 9.9116\n",
      "Epoch 15/200\n",
      "3546/3546 [==============================] - 6s 2ms/step - loss: 159.4658 - mae: 9.9685 - val_loss: 159.1950 - val_mae: 9.8343\n",
      "Epoch 16/200\n",
      "3546/3546 [==============================] - 6s 2ms/step - loss: 158.8542 - mae: 9.9405 - val_loss: 157.2254 - val_mae: 9.8903\n",
      "Epoch 17/200\n",
      "3546/3546 [==============================] - 6s 2ms/step - loss: 158.4019 - mae: 9.9284 - val_loss: 159.6278 - val_mae: 10.0424\n",
      "Epoch 18/200\n",
      "3546/3546 [==============================] - 6s 2ms/step - loss: 157.5254 - mae: 9.8983 - val_loss: 159.8159 - val_mae: 10.0862\n",
      "Epoch 19/200\n",
      "3546/3546 [==============================] - 6s 2ms/step - loss: 157.1187 - mae: 9.8830 - val_loss: 156.9598 - val_mae: 9.8141\n",
      "Epoch 20/200\n",
      "3546/3546 [==============================] - 6s 2ms/step - loss: 156.5389 - mae: 9.8655 - val_loss: 156.6853 - val_mae: 9.8382\n",
      "Epoch 21/200\n",
      "3546/3546 [==============================] - 6s 2ms/step - loss: 156.1438 - mae: 9.8520 - val_loss: 156.5749 - val_mae: 9.8809\n",
      "Epoch 22/200\n",
      "3546/3546 [==============================] - 6s 2ms/step - loss: 155.1387 - mae: 9.8183 - val_loss: 157.9619 - val_mae: 10.0173\n",
      "Epoch 23/200\n",
      "3546/3546 [==============================] - 6s 2ms/step - loss: 154.6150 - mae: 9.8014 - val_loss: 157.8861 - val_mae: 9.9003\n",
      "Epoch 24/200\n",
      "3546/3546 [==============================] - 6s 2ms/step - loss: 153.8462 - mae: 9.7732 - val_loss: 156.1716 - val_mae: 9.8790\n",
      "Epoch 25/200\n",
      "3546/3546 [==============================] - 6s 2ms/step - loss: 153.1953 - mae: 9.7528 - val_loss: 155.3522 - val_mae: 9.7276\n",
      "Epoch 26/200\n",
      "3546/3546 [==============================] - 6s 2ms/step - loss: 152.7036 - mae: 9.7338 - val_loss: 156.4327 - val_mae: 9.7717\n",
      "Epoch 27/200\n",
      "3546/3546 [==============================] - 6s 2ms/step - loss: 152.1188 - mae: 9.7129 - val_loss: 155.1225 - val_mae: 9.8247\n",
      "Epoch 28/200\n",
      "3546/3546 [==============================] - 6s 2ms/step - loss: 151.7040 - mae: 9.6990 - val_loss: 155.3410 - val_mae: 9.8024\n",
      "Epoch 29/200\n",
      "3546/3546 [==============================] - 6s 2ms/step - loss: 151.1919 - mae: 9.6780 - val_loss: 155.3919 - val_mae: 9.8297\n",
      "Epoch 30/200\n",
      "3546/3546 [==============================] - 6s 2ms/step - loss: 150.6499 - mae: 9.6645 - val_loss: 155.6263 - val_mae: 9.8092\n",
      "Epoch 31/200\n",
      "3546/3546 [==============================] - 6s 2ms/step - loss: 150.1252 - mae: 9.6485 - val_loss: 154.5276 - val_mae: 9.7604\n",
      "Epoch 32/200\n",
      "3546/3546 [==============================] - 6s 2ms/step - loss: 149.7588 - mae: 9.6310 - val_loss: 154.2194 - val_mae: 9.8230\n",
      "Epoch 33/200\n",
      "3546/3546 [==============================] - 6s 2ms/step - loss: 149.2749 - mae: 9.6131 - val_loss: 154.2275 - val_mae: 9.7636\n",
      "Epoch 34/200\n",
      "3546/3546 [==============================] - 6s 2ms/step - loss: 148.8196 - mae: 9.5951 - val_loss: 154.7611 - val_mae: 9.7158\n",
      "Epoch 35/200\n",
      "3546/3546 [==============================] - 6s 2ms/step - loss: 148.5402 - mae: 9.5873 - val_loss: 156.4840 - val_mae: 9.9337\n",
      "Epoch 36/200\n",
      "3546/3546 [==============================] - 6s 2ms/step - loss: 148.4283 - mae: 9.5874 - val_loss: 155.0158 - val_mae: 9.8589\n",
      "Epoch 37/200\n",
      "3546/3546 [==============================] - 6s 2ms/step - loss: 148.0627 - mae: 9.5725 - val_loss: 155.9584 - val_mae: 9.7627\n",
      "Epoch 38/200\n",
      "3546/3546 [==============================] - 6s 2ms/step - loss: 147.6137 - mae: 9.5526 - val_loss: 156.3218 - val_mae: 9.9092\n",
      "Epoch 39/200\n",
      "3546/3546 [==============================] - 6s 2ms/step - loss: 147.4865 - mae: 9.5542 - val_loss: 154.8398 - val_mae: 9.7998\n",
      "Epoch 40/200\n",
      "3546/3546 [==============================] - 6s 2ms/step - loss: 146.9827 - mae: 9.5355 - val_loss: 154.6469 - val_mae: 9.7929\n",
      "Epoch 41/200\n",
      "3546/3546 [==============================] - 6s 2ms/step - loss: 146.9080 - mae: 9.5295 - val_loss: 155.2866 - val_mae: 9.8327\n",
      "Epoch 42/200\n",
      "3546/3546 [==============================] - 6s 2ms/step - loss: 146.4403 - mae: 9.5152 - val_loss: 155.3023 - val_mae: 9.7792\n"
     ]
    }
   ],
   "source": [
    "history = model.fit(data_oneHot, y_train, validation_data = (data_oneHot_xval, y_test), epochs =200,callbacks=[mc,es])\n",
    "# ,callbacks=[mc]\n"
   ]
  },
  {
   "cell_type": "code",
   "execution_count": 755,
   "id": "1e41545c",
   "metadata": {},
   "outputs": [
    {
     "data": {
      "image/png": "[encoded data removed]",
      "text/plain": [
       "<Figure size 640x480 with 1 Axes>"
      ]
     },
     "metadata": {},
     "output_type": "display_data"
    }
   ],
   "source": [
    "from matplotlib import pyplot as plt\n",
    "#plot the training and validation accuracy and loss at each epoch\n",
    "loss = history.history['loss']\n",
    "val_loss = history.history['val_loss']\n",
    "epochs = range(1, len(loss) + 1)\n",
    "plt.plot(epochs, loss, 'y', label='Training loss')\n",
    "plt.plot(epochs, val_loss, 'r', label='Validation loss')\n",
    "plt.title('Training and validation loss')\n",
    "plt.xlabel('Epochs')\n",
    "plt.ylabel('Loss')\n",
    "plt.legend()\n",
    "plt.show()"
   ]
  },
  {
   "cell_type": "code",
   "execution_count": null,
   "id": "e433228f",
   "metadata": {},
   "outputs": [],
   "source": []
  },
  {
   "cell_type": "code",
   "execution_count": 756,
   "id": "d0a8bc06",
   "metadata": {},
   "outputs": [
    {
     "data": {
      "image/png": "[encoded data removed]",
      "text/plain": [
       "<Figure size 640x480 with 1 Axes>"
      ]
     },
     "metadata": {},
     "output_type": "display_data"
    }
   ],
   "source": [
    "acc = history.history['loss']\n",
    "val_acc = history.history['val_loss']\n",
    "plt.plot(epochs, acc, 'y', label='Training MAE')\n",
    "plt.plot(epochs, val_acc, 'r', label='Validation MAE')\n",
    "plt.title('Training and validation MAE')\n",
    "plt.xlabel('Epochs')\n",
    "plt.ylabel('Accuracy')\n",
    "plt.legend()\n",
    "plt.show()"
   ]
  },
  {
   "cell_type": "code",
   "execution_count": 757,
   "id": "fb0ff97f",
   "metadata": {},
   "outputs": [
    {
     "name": "stdout",
     "output_type": "stream",
     "text": [
      "WARNING:tensorflow:AutoGraph could not transform <function Model.make_predict_function.<locals>.predict_function at 0x0000027E82C70F78> and will run it as-is.\n",
      "Please report this to the TensorFlow team. When filing the bug, set the verbosity to 10 (on Linux, `export AUTOGRAPH_VERBOSITY=10`) and attach the full output.\n",
      "Cause: 'arguments' object has no attribute 'posonlyargs'\n",
      "To silence this warning, decorate the function with @tf.autograph.experimental.do_not_convert\n",
      "WARNING: AutoGraph could not transform <function Model.make_predict_function.<locals>.predict_function at 0x0000027E82C70F78> and will run it as-is.\n",
      "Please report this to the TensorFlow team. When filing the bug, set the verbosity to 10 (on Linux, `export AUTOGRAPH_VERBOSITY=10`) and attach the full output.\n",
      "Cause: 'arguments' object has no attribute 'posonlyargs'\n",
      "To silence this warning, decorate the function with @tf.autograph.experimental.do_not_convert\n",
      "1/1 [==============================] - 0s 63ms/step\n",
      "Predicted values are :\n",
      "  [[36.52807 ]\n",
      " [40.97702 ]\n",
      " [37.17154 ]\n",
      " [36.975723]\n",
      " [33.56359 ]\n",
      " [43.917625]\n",
      " [46.237083]\n",
      " [41.378296]\n",
      " [51.996284]\n",
      " [38.56609 ]]\n",
      "Real values are: \n",
      "  20077     34.0\n",
      "85393     51.0\n",
      "118176    34.0\n",
      "137739    29.0\n",
      "29126     30.0\n",
      "186       24.0\n",
      "18825     56.0\n",
      "79779     30.0\n",
      "138364    27.0\n",
      "167255    49.0\n",
      "Name: delivery_time_mins, dtype: float64\n"
     ]
    }
   ],
   "source": [
    "#Predict on test data\n",
    "data_oneHot_xtest = column_trans.transform(X_test)\n",
    "predictions = model.predict(data_oneHot_xtest[5:15])\n",
    "print(\"Predicted values are :\\n \", predictions)\n",
    "print(\"Real values are: \\n \", y_test[5:15])"
   ]
  },
  {
   "cell_type": "code",
   "execution_count": null,
   "id": "91948bba",
   "metadata": {},
   "outputs": [],
   "source": []
  },
  {
   "cell_type": "code",
   "execution_count": 758,
   "id": "ecfe0398",
   "metadata": {},
   "outputs": [
    {
     "name": "stdout",
     "output_type": "stream",
     "text": [
      "444/444 [==============================] - 1s 1ms/step\n"
     ]
    }
   ],
   "source": [
    "predictions = model.predict(data_oneHot_xtest)"
   ]
  },
  {
   "cell_type": "code",
   "execution_count": 759,
   "id": "50154f39",
   "metadata": {},
   "outputs": [
    {
     "data": {
      "text/plain": [
       "155.30238574706985"
      ]
     },
     "execution_count": 759,
     "metadata": {},
     "output_type": "execute_result"
    }
   ],
   "source": [
    "mean_squared_error(y_test, predictions)"
   ]
  },
  {
   "cell_type": "code",
   "execution_count": 760,
   "id": "dd970fb2",
   "metadata": {},
   "outputs": [
    {
     "data": {
      "text/plain": [
       "12.462037784691148"
      ]
     },
     "execution_count": 760,
     "metadata": {},
     "output_type": "execute_result"
    }
   ],
   "source": [
    "mean_squared_error(y_test, predictions, squared=False)"
   ]
  },
  {
   "cell_type": "code",
   "execution_count": 761,
   "id": "c3218f7b",
   "metadata": {},
   "outputs": [
    {
     "data": {
      "text/plain": [
       "9.779249959226691"
      ]
     },
     "execution_count": 761,
     "metadata": {},
     "output_type": "execute_result"
    }
   ],
   "source": [
    "mean_absolute_error(y_test, predictions)"
   ]
  },
  {
   "cell_type": "code",
   "execution_count": null,
   "id": "ccbe37ec",
   "metadata": {},
   "outputs": [],
   "source": []
  },
  {
   "cell_type": "code",
   "execution_count": null,
   "id": "bf987fd6",
   "metadata": {},
   "outputs": [],
   "source": []
  }
 ],
 "metadata": {
  "kernelspec": {
   "display_name": "Python 3 (ipykernel)",
   "language": "python",
   "name": "python3"
  },
  "language_info": {
   "codemirror_mode": {
    "name": "ipython",
    "version": 3
   },
   "file_extension": ".py",
   "mimetype": "text/x-python",
   "name": "python",
   "nbconvert_exporter": "python",
   "pygments_lexer": "ipython3",
   "version": "3.7.13"
  }
 },
 "nbformat": 4,
 "nbformat_minor": 5
}
